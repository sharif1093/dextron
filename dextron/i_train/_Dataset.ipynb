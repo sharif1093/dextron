{
 "cells": [
  {
   "cell_type": "markdown",
   "metadata": {},
   "source": [
    "# Read memory from .npz file\n",
    "* Read each subfile as a key in the memory dictionary.\n",
    "* Do some statistics on the data"
   ]
  },
  {
   "cell_type": "code",
   "execution_count": 1,
   "metadata": {},
   "outputs": [
    {
     "name": "stdout",
     "output_type": "stream",
     "text": [
      "Key: /observations/agent/position was added with dtype 'float64' and shape '(20, 1000000, 25)'\n",
      "Key: /observations/agent/velocity was added with dtype 'float64' and shape '(20, 1000000, 23)'\n",
      "Key: /observations/agent/rel_obj_hand was added with dtype 'float64' and shape '(20, 1000000, 1, 3)'\n",
      "Key: /observations/agent/rel_obj_hand_dist was added with dtype 'float64' and shape '(20, 1000000)'\n",
      "Key: /observations/agent/distance2 was added with dtype 'float64' and shape '(20, 1000000)'\n",
      "Key: /observations/agent/closure was added with dtype 'float64' and shape '(20, 1000000)'\n",
      "Key: /observations/demonstrator/distance was added with dtype 'float32' and shape '(20, 1000000)'\n",
      "Key: /observations/demonstrator/hand_closure was added with dtype 'float32' and shape '(20, 1000000)'\n",
      "Key: /observations/status/is_training was added with dtype 'uint8' and shape '(20, 1000000)'\n",
      "Key: /observations/parameters/initial_closure was added with dtype 'float64' and shape '(20, 1000000)'\n",
      "Key: /observations/parameters/controller_gain was added with dtype 'float64' and shape '(20, 1000000)'\n",
      "Key: /observations/parameters/controller_thre was added with dtype 'float64' and shape '(20, 1000000)'\n",
      "Key: /observations/parameters/real_trajectory was added with dtype 'uint8' and shape '(20, 1000000)'\n",
      "Key: /masks was added with dtype 'float32' and shape '(20, 1000000, 1)'\n",
      "Key: /agents/demonstrator/actions was added with dtype 'float32' and shape '(20, 1000000, 1)'\n",
      "Key: /agents/demonstrator/hidden_state/time_step was added with dtype 'float32' and shape '(20, 1000000, 1)'\n",
      "Key: /agents/demonstrator/hidden_state/initial_distance was added with dtype 'float32' and shape '(20, 1000000, 1)'\n",
      "Key: /agents/demonstrator/hidden_state/controller_gain was added with dtype 'float32' and shape '(20, 1000000, 1)'\n",
      "Key: /agents/demonstrator/hidden_state/controller_thre was added with dtype 'float32' and shape '(20, 1000000, 1)'\n",
      "Key: /rewards was added with dtype 'float64' and shape '(20, 1000000, 1)'\n",
      "Key: /infos/rand/filename was added with dtype '<U8' and shape '(20, 1000000)'\n",
      "Key: /infos/rand/time_noise_normal was added with dtype 'float64' and shape '(20, 1000000)'\n",
      "Key: /infos/rand/offset_noise_2d was added with dtype 'float64' and shape '(20, 1000000, 3)'\n",
      "Key: /infos/rand/original_time was added with dtype 'float64' and shape '(20, 1000000)'\n",
      "Key: /infos/rand/randomized_time was added with dtype 'float64' and shape '(20, 1000000)'\n",
      "Key: /infos/episode/r was added with dtype 'float64' and shape '(20, 1000000)'\n",
      "Key: /infos/episode/l was added with dtype 'int64' and shape '(20, 1000000)'\n",
      "Key: /infos/episode/t was added with dtype 'float64' and shape '(20, 1000000)'\n"
     ]
    }
   ],
   "source": [
    "import numpy as np\n",
    "np.random.seed(0)\n",
    "\n",
    "loading = np.load(\"/sessions/session_20200914233251_objective_mccarthy/memsnapshot/checkpoint-1000/demo.npz\")\n",
    "\n",
    "buffer = {}\n",
    "for key in loading.files:\n",
    "    buffer[key] = loading[key]\n",
    "    print(f\"Key: {key} was added with dtype '{buffer[key].dtype}' and shape '{buffer[key].shape}'\")\n"
   ]
  },
  {
   "cell_type": "code",
   "execution_count": 2,
   "metadata": {},
   "outputs": [
    {
     "name": "stdout",
     "output_type": "stream",
     "text": [
      "minimum length: 13; maximum length: 398; mean: 195.9647228292291, std: 47.97906584503823\n",
      "minimum reward: 0.0; maximum reward: 20.0; mean: 17.44121941420298, std: 6.648857705611155\n",
      "l:(20, 1000000), r:(20, 1000000), masks:(20, 1000000, 1)\n"
     ]
    }
   ],
   "source": [
    "#$\n",
    "\n",
    "l = buffer[\"/infos/episode/l\"]\n",
    "l_where = np.where(l>0)\n",
    "\n",
    "r = buffer[\"/infos/episode/r\"]\n",
    "r_where = np.where(r==r)\n",
    "\n",
    "masks = buffer[\"/masks\"]\n",
    "masks_where = np.where(masks==0)\n",
    "\n",
    "rewards = buffer[\"/rewards\"]\n",
    "\n",
    "assert len(masks_where[0])==len(l_where[0])\n",
    "assert len(masks_where[0])==len(r_where[0])\n",
    "\n",
    "n_episodes = len(masks_where[0])\n",
    "n_workers = len(masks)\n",
    "\n",
    "print(f\"minimum length: {np.min(l[l_where])}; maximum length: {np.max(l[l_where])}; mean: {np.mean(l[l_where])}, std: {np.std(l[l_where])}\")\n",
    "print(f\"minimum reward: {np.min(r[r_where])}; maximum reward: {np.max(r[r_where])}; mean: {np.mean(r[r_where])}, std: {np.std(r[r_where])}\")\n",
    "\n",
    "\n",
    "print(f\"l:{l.shape}, r:{r.shape}, masks:{masks.shape}\")\n",
    "\n",
    "l_where_dict = {}\n",
    "r_where_dict = {}\n",
    "masks_where_dict = {}\n",
    "\n",
    "for i in range(n_workers):\n",
    "    l_where_dict[i] = np.where(l[i]>0)[0]\n",
    "    r_where_dict[i] = np.where(r[i]==r[i])[0]\n",
    "    masks_where_dict[i] = np.where(masks[i]==0)[0]\n"
   ]
  },
  {
   "cell_type": "code",
   "execution_count": null,
   "metadata": {},
   "outputs": [],
   "source": []
  },
  {
   "cell_type": "markdown",
   "metadata": {},
   "source": [
    "# Several interesting problems\n",
    "1. From states, predict actions! (*only for successful trajectories*)\n",
    "2. From a sequence, predict the reward.\n",
    "3. From a stack of states, predict the velocities.\n",
    "4. From state and action, predict next state! (This is the environment model).\n"
   ]
  },
  {
   "cell_type": "markdown",
   "metadata": {},
   "source": [
    "## For problem 1: $a = \\pi(s)$\n",
    "\n",
    "> We only consider cases where: Rewards == 20"
   ]
  },
  {
   "cell_type": "code",
   "execution_count": null,
   "metadata": {},
   "outputs": [],
   "source": []
  },
  {
   "cell_type": "code",
   "execution_count": 3,
   "metadata": {},
   "outputs": [
    {
     "name": "stdout",
     "output_type": "stream",
     "text": [
      "Key: /observations/agent/position change from '(20, 1000000, 25)' to '(19997984, 25)'\n",
      "Key: /observations/agent/velocity change from '(20, 1000000, 23)' to '(19997984, 23)'\n",
      "Key: /observations/agent/rel_obj_hand change from '(20, 1000000, 1, 3)' to '(19997984, 1, 3)'\n",
      "Key: /observations/agent/rel_obj_hand_dist change from '(20, 1000000)' to '(19997984,)'\n",
      "Key: /observations/agent/distance2 change from '(20, 1000000)' to '(19997984,)'\n",
      "Key: /observations/agent/closure change from '(20, 1000000)' to '(19997984,)'\n",
      "Key: /observations/demonstrator/distance change from '(20, 1000000)' to '(19997984,)'\n",
      "Key: /observations/demonstrator/hand_closure change from '(20, 1000000)' to '(19997984,)'\n",
      "Key: /observations/status/is_training change from '(20, 1000000)' to '(19997984,)'\n",
      "Key: /observations/parameters/initial_closure change from '(20, 1000000)' to '(19997984,)'\n",
      "Key: /observations/parameters/controller_gain change from '(20, 1000000)' to '(19997984,)'\n",
      "Key: /observations/parameters/controller_thre change from '(20, 1000000)' to '(19997984,)'\n",
      "Key: /observations/parameters/real_trajectory change from '(20, 1000000)' to '(19997984,)'\n",
      "Key: /masks change from '(20, 1000000, 1)' to '(19997984, 1)'\n",
      "Key: /agents/demonstrator/actions change from '(20, 1000000, 1)' to '(19997984, 1)'\n",
      "Key: /agents/demonstrator/hidden_state/time_step change from '(20, 1000000, 1)' to '(19997984, 1)'\n",
      "Key: /agents/demonstrator/hidden_state/initial_distance change from '(20, 1000000, 1)' to '(19997984, 1)'\n",
      "Key: /agents/demonstrator/hidden_state/controller_gain change from '(20, 1000000, 1)' to '(19997984, 1)'\n",
      "Key: /agents/demonstrator/hidden_state/controller_thre change from '(20, 1000000, 1)' to '(19997984, 1)'\n",
      "Key: /rewards change from '(20, 1000000, 1)' to '(19997984, 1)'\n",
      "Key: /infos/rand/filename change from '(20, 1000000)' to '(19997984,)'\n",
      "Key: /infos/rand/time_noise_normal change from '(20, 1000000)' to '(19997984,)'\n",
      "Key: /infos/rand/offset_noise_2d change from '(20, 1000000, 3)' to '(19997984, 3)'\n",
      "Key: /infos/rand/original_time change from '(20, 1000000)' to '(19997984,)'\n",
      "Key: /infos/rand/randomized_time change from '(20, 1000000)' to '(19997984,)'\n",
      "Key: /infos/episode/r change from '(20, 1000000)' to '(19997984,)'\n",
      "Key: /infos/episode/l change from '(20, 1000000)' to '(19997984,)'\n",
      "Key: /infos/episode/t change from '(20, 1000000)' to '(19997984,)'\n"
     ]
    }
   ],
   "source": [
    "# Remove index 0 of all datasets (which happens to be nan for /rewards for some reason.)\n",
    "# Find the index of last completed trajectory in each worker. Call them ji's.\n",
    "# Combine the first two indices by stacking [1:j1, 1:j2, 1:j3, ...] for all workers.\n",
    "# Now all of the buffer arrays are the same size. The first index i for the stacked trajectories.\n",
    "\n",
    "# Get the ends of trajectories\n",
    "# masks_where = np.where(buffer[\"/masks\"]==0)[:2]\n",
    "\n",
    "# Set START=1 to remove the first nan elements in the buffer[\"/rewards\"]\n",
    "START=1\n",
    "# Fixing episode lengths because of START=1\n",
    "for i in range(n_workers):\n",
    "    buffer[\"/infos/episode/l\"][i,l_where_dict[i][0]] -= START\n",
    "\n",
    "\n",
    "# Find last valid index of each worker.\n",
    "masks_where_end_dict={}\n",
    "for i in range(n_workers):\n",
    "    masks_where_end_dict[i] = masks_where_dict[i][-1]\n",
    "\n",
    "for i in range(1, 20):\n",
    "    buffer[\"/masks\"][i,START,0] = 0\n",
    "\n",
    "# Now combine the first two axes by stacking them.\n",
    "# Do it for all keys\n",
    "stacks = {}\n",
    "keys = list(buffer.keys())\n",
    "for key in keys:\n",
    "    shape = buffer[key].shape\n",
    "    stack = [buffer[key][n,START:masks_where_end_dict[n]] for n in range(n_workers)]\n",
    "    buffer[key] = np.concatenate(stack)\n",
    "    print(f\"Key: {key} change from '{shape}' to '{buffer[key].shape}'\")\n",
    "\n",
    "n_length = buffer[\"/masks\"].shape[0]"
   ]
  },
  {
   "cell_type": "code",
   "execution_count": 4,
   "metadata": {},
   "outputs": [],
   "source": [
    "# Test time correctness\n",
    "time_scale_offset = 0.5 # 1.0\n",
    "time_scale_factor = 2.5 # 2.0\n",
    "time_noise_factor = 0.8\n",
    "\n",
    "\n",
    "noise = buffer[\"/infos/rand/time_noise_normal\"] * time_noise_factor\n",
    "T = buffer[\"/infos/rand/original_time\"] * (time_scale_factor) + (time_scale_offset + noise)\n",
    "\n",
    "assert np.linalg.norm(buffer[\"/infos/rand/randomized_time\"] - T) < 1e-8"
   ]
  },
  {
   "cell_type": "code",
   "execution_count": null,
   "metadata": {},
   "outputs": [],
   "source": []
  },
  {
   "cell_type": "code",
   "execution_count": 5,
   "metadata": {},
   "outputs": [],
   "source": [
    "#$\n",
    "\n",
    "assert len(np.where(buffer[\"/masks\"]==0)[0])+1 == n_episodes, \"Number of episodes after concatenation should be the same as number of episodes before concatenation.\"\n",
    "assert len(np.where(buffer[\"/infos/episode/r\"]==buffer[\"/infos/episode/r\"])[0]) == n_episodes\n",
    "assert len(np.where(buffer[\"/infos/episode/l\"]>0)[0]) == n_episodes"
   ]
  },
  {
   "cell_type": "code",
   "execution_count": null,
   "metadata": {},
   "outputs": [],
   "source": []
  },
  {
   "cell_type": "code",
   "execution_count": 6,
   "metadata": {},
   "outputs": [],
   "source": [
    "#$\n",
    "\n",
    "# After \"combination\", figure out the new whereabouts.\n",
    "l_c = buffer[\"/infos/episode/l\"]\n",
    "l_where_c = np.where(l_c>0)[0]\n",
    "\n",
    "r_c = buffer[\"/infos/episode/r\"]\n",
    "r_where_c = np.where(r_c==r_c)[0]\n",
    "r20_where_c = np.where(r_c==20)[0]\n",
    "\n",
    "masks_c = buffer[\"/masks\"]\n",
    "masks_where_c = np.where(masks_c==0)[0]\n",
    "masks_where_c = np.concatenate([masks_where_c, [n_length]])\n",
    "\n",
    "rewards_c = buffer[\"/rewards\"]\n",
    "\n"
   ]
  },
  {
   "cell_type": "code",
   "execution_count": 7,
   "metadata": {},
   "outputs": [],
   "source": [
    "#$\n",
    "\n",
    "# Check if all sets are the same.\n",
    "\n",
    "assert len(masks_where_c)==len(l_where_c)\n",
    "assert len(masks_where_c)==len(r_where_c)\n",
    "\n",
    "assert len(set(masks_where_c-1) - set(l_where_c)) == 0\n",
    "assert len(set(l_where_c) - set(masks_where_c-1)) == 0\n",
    "\n",
    "assert len(set(masks_where_c-1) - set(r_where_c)) == 0\n",
    "assert len(set(r_where_c) - set(masks_where_c-1)) == 0"
   ]
  },
  {
   "cell_type": "code",
   "execution_count": null,
   "metadata": {},
   "outputs": [],
   "source": []
  },
  {
   "cell_type": "code",
   "execution_count": 8,
   "metadata": {},
   "outputs": [],
   "source": [
    "#$\n",
    "\n",
    "# Another test here: r (sum of rewards at the end of each episode) should match stepwise rewards.\n",
    "# r == sum(rewards[ending-20:ending])\n",
    "\n",
    "for e in range(n_episodes):\n",
    "    length = l_c[l_where_c[e]]\n",
    "    reward = r_c[r_where_c[e]]\n",
    "    ending = masks_where_c[e]\n",
    "    \n",
    "    reward_arr = buffer[\"/rewards\"][ending-min(20,length-1):ending]\n",
    "    \n",
    "    assert sum(reward_arr)==reward, f\"Reward discripancy for episode={e}, length={length}, reward={reward}, index={ending}\"\n",
    "\n"
   ]
  },
  {
   "cell_type": "code",
   "execution_count": null,
   "metadata": {},
   "outputs": [],
   "source": []
  },
  {
   "cell_type": "markdown",
   "metadata": {},
   "source": [
    "### Create another column with trajectory index"
   ]
  },
  {
   "cell_type": "code",
   "execution_count": 9,
   "metadata": {},
   "outputs": [],
   "source": [
    "assert n_episodes == len(l_where_c)\n",
    "\n",
    "buffer[\"/infos/episode/i\"] = np.empty_like(buffer[\"/infos/episode/r\"], dtype=np.int)\n",
    "buffer[\"/infos/episode/timestep\"] = np.empty_like(buffer[\"/infos/episode/r\"], dtype=np.int)\n",
    "\n",
    "j = 0\n",
    "for i in range(n_episodes):\n",
    "    timestep = 0\n",
    "    while j <= l_where_c[i]:\n",
    "        buffer[\"/infos/episode/i\"][j] = i\n",
    "        buffer[\"/infos/episode/timestep\"][j] = timestep\n",
    "        timestep+=1\n",
    "        j+=1"
   ]
  },
  {
   "cell_type": "code",
   "execution_count": 10,
   "metadata": {},
   "outputs": [],
   "source": [
    "# Test: Shouldn't l_c[l_where_c[1]]==l_where_c[1]-l_where_c[0]\n",
    "arrr=0\n",
    "for i in range(1,n_episodes):\n",
    "    assert l_c[l_where_c[i]] == (l_where_c[i]-l_where_c[i-1]), f\"In {i}, {l_c[l_where_c[i]]} is not equal to {l_where_c[i]-l_where_c[i-1]}.\"\n",
    "    # arrr += np.abs(l_c[l_where_c[i]] - (l_where_c[i]-l_where_c[i-1]))"
   ]
  },
  {
   "cell_type": "markdown",
   "metadata": {},
   "source": [
    "### Create time to reach column"
   ]
  },
  {
   "cell_type": "code",
   "execution_count": 11,
   "metadata": {},
   "outputs": [],
   "source": [
    "# Get start_time, final_time, reach_time from the .json files.\n",
    "# Then convert reach time to timesteps, and store that along other keys.\n",
    "\n",
    "\n",
    "# First create a dictionary for all files\n",
    "import json, glob, os\n",
    "\n",
    "meta_dict = {}\n",
    "files = sorted(glob.glob(\"../extracts/*.json\"))\n",
    "for file in files:\n",
    "    name = os.path.splitext(os.path.split(file)[1])[0]\n",
    "    \n",
    "    with open(f'../extracts/{name}.json') as f:\n",
    "        lines = f.readlines()\n",
    "        start_time = json.loads(lines[0])[\"t\"]\n",
    "        total_time = json.loads(lines[-1])[\"t\"] - start_time\n",
    "    with open(f'../extracts/meta/{name}_meta.json') as f:\n",
    "        reach_time = dict(json.load(f))['reached'] - start_time\n",
    "    \n",
    "    meta_dict[name] = {\"start_time\":start_time, \"reach_time\":reach_time, \"total_time\":total_time}\n",
    "\n",
    "\n",
    "# Iterate on each entry, add \"reach timestep\" to \n",
    "CONTROLLER_STEP = 0.02\n",
    "noise = buffer[\"/infos/rand/time_noise_normal\"] * time_noise_factor\n",
    "buffer[\"/infos/episode/reach_timestep\"] = np.empty((n_length,))\n",
    "\n",
    "\n",
    "for i in range(n_length):\n",
    "    reach_time = meta_dict[buffer[\"/infos/rand/filename\"][i]][\"reach_time\"]\n",
    "    T = reach_time*time_scale_factor + (time_scale_offset+noise[i])\n",
    "    buffer[\"/infos/episode/reach_timestep\"][i] = int(T / CONTROLLER_STEP)\n"
   ]
  },
  {
   "cell_type": "code",
   "execution_count": null,
   "metadata": {},
   "outputs": [],
   "source": []
  },
  {
   "cell_type": "code",
   "execution_count": 12,
   "metadata": {},
   "outputs": [],
   "source": [
    "# buffer[\"/infos/episode/l\"]"
   ]
  },
  {
   "cell_type": "markdown",
   "metadata": {},
   "source": [
    "## Dataset creation\n",
    "\n",
    "Identify which trajectories where successful, i.e. they had r=20 at the end. Then, use data from those trajectories "
   ]
  },
  {
   "cell_type": "code",
   "execution_count": 13,
   "metadata": {},
   "outputs": [],
   "source": [
    "# Create a list of acceptable indices to sample from:\n",
    "\n",
    "indices = []\n",
    "for i in range(len(r20_where_c)):\n",
    "    e = r20_where_c[i]\n",
    "    s = e - (l_c[e]-1)\n",
    "    assert r_c[e] == 20\n",
    "    \n",
    "    indices += list(range(s+1,e+2))\n",
    "\n",
    "assert sum(l_c[r20_where_c]) == len(indices), \"Sum of all valid lengths (with r==20) must be equal to the number of all valid indices.\"\n",
    "\n",
    "# BUG: We remove very last element since that element probably does not exist.\n",
    "indices = indices[:-1]\n",
    "\n"
   ]
  },
  {
   "cell_type": "code",
   "execution_count": null,
   "metadata": {},
   "outputs": [],
   "source": []
  },
  {
   "cell_type": "code",
   "execution_count": 14,
   "metadata": {},
   "outputs": [],
   "source": [
    "#@\n",
    "\n",
    "# Split data to training, testing, and validating data.\n",
    "np.random.seed(0)\n",
    "np.random.shuffle(indices)\n",
    "N = len(indices)\n",
    "\n",
    "N80 = int(0.80 * N)\n",
    "\n",
    "training, test = indices[:N80], indices[N80:]"
   ]
  },
  {
   "cell_type": "code",
   "execution_count": null,
   "metadata": {},
   "outputs": [],
   "source": []
  },
  {
   "cell_type": "code",
   "execution_count": 15,
   "metadata": {},
   "outputs": [],
   "source": [
    "# # states\n",
    "# x = \n",
    "\n",
    "# # actions\n",
    "# y = \n",
    "\n",
    "# # Try to find model f\n",
    "# # Can be BN, MLP, BN, MLP, BN, ...\n",
    "# y = f(x)"
   ]
  },
  {
   "cell_type": "code",
   "execution_count": 16,
   "metadata": {},
   "outputs": [
    {
     "name": "stdout",
     "output_type": "stream",
     "text": [
      "GPU available. Using 1 GPU.\n"
     ]
    }
   ],
   "source": [
    "import torch\n",
    "\n",
    "# TODO: Sets the number of OpenMP threads used for parallelizing CPU operations\n",
    "# torch.set_num_threads(1)\n",
    "        \n",
    "## GPU\n",
    "cuda_available = torch.cuda.is_available()\n",
    "if cuda_available: # and use_gpu:\n",
    "    print(\"GPU available. Using 1 GPU.\")\n",
    "    device = torch.device(\"cuda\")\n",
    "    # dtype = torch.cuda.FloatTensor\n",
    "    # dtypelong = torch.cuda.LongTensor\n",
    "else:\n",
    "    print(\"Using CPUs.\")\n",
    "    device = torch.device(\"cpu\")\n",
    "    # dtype = torch.FloatTensor\n",
    "    # dtypelong = torch.LongTensor\n",
    "\n",
    "# model = ?"
   ]
  },
  {
   "cell_type": "code",
   "execution_count": 17,
   "metadata": {},
   "outputs": [],
   "source": [
    "# import torch.nn as nn\n",
    "# # import torch.distributions as distributions\n",
    "\n",
    "# class ModelClass(nn.Module):\n",
    "#     def __init__(self, state_size, hidden_size, action_size, action_scale, init_w=3e-3):\n",
    "#         super(ModelClass, self).__init__()\n",
    "#        \n",
    "#         self.linear1 = nn.Linear(state_size,  hidden_size)\n",
    "#         self.bn1     = nn.BatchNorm1d(num_features=hidden_size)\n",
    "#         self.linear2_1 = nn.Linear(hidden_size, hidden_size)\n",
    "#         self.bn2_1     = nn.BatchNorm1d(num_features=hidden_size)\n",
    "#         self.linear2_2 = nn.Linear(hidden_size, hidden_size)\n",
    "#         self.bn2_2     = nn.BatchNorm1d(num_features=hidden_size)\n",
    "#         self.linear2_3 = nn.Linear(hidden_size, hidden_size)\n",
    "#         self.bn2_3     = nn.BatchNorm1d(num_features=hidden_size)\n",
    "#         self.linear2_4 = nn.Linear(hidden_size, hidden_size)\n",
    "#         self.bn2_4     = nn.BatchNorm1d(num_features=hidden_size)\n",
    "#         self.linear3 = nn.Linear(hidden_size, action_size)\n",
    "#        \n",
    "#         self.linear3.weight.data.uniform_(-init_w, init_w)\n",
    "#         self.linear3.bias.data.uniform_(-init_w, init_w)\n",
    "#        \n",
    "#         self.action_scale = action_scale\n",
    "#        \n",
    "#     def forward(self, state):\n",
    "#         # x = torch.cat([state, action], 1)\n",
    "#         x = state\n",
    "#         x = torch.relu(self.bn1(self.linear1(x)))\n",
    "#         x = torch.relu(self.bn2_1(self.linear2_1(x)))\n",
    "#         x = torch.relu(self.bn2_2(self.linear2_2(x)))\n",
    "#         x = torch.relu(self.bn2_3(self.linear2_3(x)))\n",
    "#         x = torch.relu(self.bn2_4(self.linear2_4(x)))\n",
    "#         x = torch.tanh(self.linear3(x)) * self.action_scale\n",
    "#         return x"
   ]
  },
  {
   "cell_type": "code",
   "execution_count": 20,
   "metadata": {},
   "outputs": [],
   "source": [
    "import torch.nn as nn\n",
    "\n",
    "class ModelClass(nn.Module):\n",
    "    def __init__(self, state_size, hidden_size, action_size, action_scale, init_w=3e-3):\n",
    "        super(ModelClass, self).__init__()\n",
    "        \n",
    "        self.linear1 = nn.Linear(state_size,  hidden_size)\n",
    "        self.linear2 = nn.Linear(hidden_size, hidden_size)\n",
    "        self.linear3 = nn.Linear(hidden_size, action_size)\n",
    "        \n",
    "        self.linear3.weight.data.uniform_(-init_w, init_w)\n",
    "        self.linear3.bias.data.uniform_(-init_w, init_w)\n",
    "        \n",
    "        self.action_scale = action_scale\n",
    "        \n",
    "    def forward(self, state):\n",
    "        # x = torch.cat([state, action], 1)\n",
    "        x = state\n",
    "        x = torch.relu(self.linear1(x))\n",
    "        x = torch.relu(self.linear2(x))\n",
    "        # x = torch.tanh(self.linear3(x)) * self.action_scale\n",
    "        x = self.linear3(x)\n",
    "        return x"
   ]
  },
  {
   "cell_type": "code",
   "execution_count": 26,
   "metadata": {},
   "outputs": [],
   "source": [
    "# Run this block again to reset the model and optimizer.\n",
    "\n",
    "from torch.optim import Adam\n",
    "import torch.nn as nn\n",
    "\n",
    "model = ModelClass(state_size=48, hidden_size=256, action_size=1, action_scale=10)\n",
    "# # Multi-GPU\n",
    "# if torch.cuda.device_count() >= 1:\n",
    "#     gpu_count = torch.cuda.device_count()\n",
    "#     model = nn.DataParallel(model)\n",
    "# else:\n",
    "#     gpu_count = 0\n",
    "model = model.to(device)\n",
    "\n",
    "optimizer = Adam(model.parameters(),\n",
    "                 lr=0.0003,\n",
    "                 betas=(0.9, 0.999),\n",
    "                 eps=1e-08)\n",
    "lossfn = nn.MSELoss()\n"
   ]
  },
  {
   "cell_type": "code",
   "execution_count": null,
   "metadata": {},
   "outputs": [
    {
     "data": {
      "application/vnd.jupyter.widget-view+json": {
       "model_id": "3f87d4268a7140d98c21278c0e36cb5f",
       "version_major": 2,
       "version_minor": 0
      },
      "text/plain": [
       "HBox(children=(FloatProgress(value=0.0, description='epoch', style=ProgressStyle(description_width='initial'))…"
      ]
     },
     "metadata": {},
     "output_type": "display_data"
    },
    {
     "data": {
      "application/vnd.jupyter.widget-view+json": {
       "model_id": "",
       "version_major": 2,
       "version_minor": 0
      },
      "text/plain": [
       "HBox(children=(FloatProgress(value=0.0, description='train', max=450336.0, style=ProgressStyle(description_wid…"
      ]
     },
     "metadata": {},
     "output_type": "display_data"
    },
    {
     "data": {
      "application/vnd.jupyter.widget-view+json": {
       "model_id": "",
       "version_major": 2,
       "version_minor": 0
      },
      "text/plain": [
       "HBox(children=(FloatProgress(value=0.0, description='test', max=112584.0, style=ProgressStyle(description_widt…"
      ]
     },
     "metadata": {},
     "output_type": "display_data"
    },
    {
     "name": "stdout",
     "output_type": "stream",
     "text": [
      "Epoch 0: mean training loss: 669.3898627001416, mean test loss: 615.1193231523549.\n"
     ]
    },
    {
     "data": {
      "application/vnd.jupyter.widget-view+json": {
       "model_id": "",
       "version_major": 2,
       "version_minor": 0
      },
      "text/plain": [
       "HBox(children=(FloatProgress(value=0.0, description='train', max=450336.0, style=ProgressStyle(description_wid…"
      ]
     },
     "metadata": {},
     "output_type": "display_data"
    },
    {
     "data": {
      "application/vnd.jupyter.widget-view+json": {
       "model_id": "",
       "version_major": 2,
       "version_minor": 0
      },
      "text/plain": [
       "HBox(children=(FloatProgress(value=0.0, description='test', max=112584.0, style=ProgressStyle(description_widt…"
      ]
     },
     "metadata": {},
     "output_type": "display_data"
    },
    {
     "name": "stdout",
     "output_type": "stream",
     "text": [
      "Epoch 1: mean training loss: 597.3613022326542, mean test loss: 591.2537610947785.\n"
     ]
    },
    {
     "data": {
      "application/vnd.jupyter.widget-view+json": {
       "model_id": "",
       "version_major": 2,
       "version_minor": 0
      },
      "text/plain": [
       "HBox(children=(FloatProgress(value=0.0, description='train', max=450336.0, style=ProgressStyle(description_wid…"
      ]
     },
     "metadata": {},
     "output_type": "display_data"
    },
    {
     "data": {
      "application/vnd.jupyter.widget-view+json": {
       "model_id": "",
       "version_major": 2,
       "version_minor": 0
      },
      "text/plain": [
       "HBox(children=(FloatProgress(value=0.0, description='test', max=112584.0, style=ProgressStyle(description_widt…"
      ]
     },
     "metadata": {},
     "output_type": "display_data"
    },
    {
     "name": "stdout",
     "output_type": "stream",
     "text": [
      "Epoch 2: mean training loss: 561.8447444241226, mean test loss: 545.3397166098239.\n"
     ]
    },
    {
     "data": {
      "application/vnd.jupyter.widget-view+json": {
       "model_id": "",
       "version_major": 2,
       "version_minor": 0
      },
      "text/plain": [
       "HBox(children=(FloatProgress(value=0.0, description='train', max=450336.0, style=ProgressStyle(description_wid…"
      ]
     },
     "metadata": {},
     "output_type": "display_data"
    },
    {
     "data": {
      "application/vnd.jupyter.widget-view+json": {
       "model_id": "",
       "version_major": 2,
       "version_minor": 0
      },
      "text/plain": [
       "HBox(children=(FloatProgress(value=0.0, description='test', max=112584.0, style=ProgressStyle(description_widt…"
      ]
     },
     "metadata": {},
     "output_type": "display_data"
    },
    {
     "name": "stdout",
     "output_type": "stream",
     "text": [
      "Epoch 3: mean training loss: 531.4071127691562, mean test loss: 513.9820012241202.\n"
     ]
    },
    {
     "data": {
      "application/vnd.jupyter.widget-view+json": {
       "model_id": "",
       "version_major": 2,
       "version_minor": 0
      },
      "text/plain": [
       "HBox(children=(FloatProgress(value=0.0, description='train', max=450336.0, style=ProgressStyle(description_wid…"
      ]
     },
     "metadata": {},
     "output_type": "display_data"
    },
    {
     "data": {
      "application/vnd.jupyter.widget-view+json": {
       "model_id": "",
       "version_major": 2,
       "version_minor": 0
      },
      "text/plain": [
       "HBox(children=(FloatProgress(value=0.0, description='test', max=112584.0, style=ProgressStyle(description_widt…"
      ]
     },
     "metadata": {},
     "output_type": "display_data"
    },
    {
     "name": "stdout",
     "output_type": "stream",
     "text": [
      "Epoch 4: mean training loss: 507.5213515263482, mean test loss: 505.60889269498705.\n"
     ]
    },
    {
     "data": {
      "application/vnd.jupyter.widget-view+json": {
       "model_id": "",
       "version_major": 2,
       "version_minor": 0
      },
      "text/plain": [
       "HBox(children=(FloatProgress(value=0.0, description='train', max=450336.0, style=ProgressStyle(description_wid…"
      ]
     },
     "metadata": {},
     "output_type": "display_data"
    },
    {
     "data": {
      "application/vnd.jupyter.widget-view+json": {
       "model_id": "",
       "version_major": 2,
       "version_minor": 0
      },
      "text/plain": [
       "HBox(children=(FloatProgress(value=0.0, description='test', max=112584.0, style=ProgressStyle(description_widt…"
      ]
     },
     "metadata": {},
     "output_type": "display_data"
    },
    {
     "name": "stdout",
     "output_type": "stream",
     "text": [
      "Epoch 5: mean training loss: 489.32623681886224, mean test loss: 481.7004718047287.\n"
     ]
    },
    {
     "data": {
      "application/vnd.jupyter.widget-view+json": {
       "model_id": "",
       "version_major": 2,
       "version_minor": 0
      },
      "text/plain": [
       "HBox(children=(FloatProgress(value=0.0, description='train', max=450336.0, style=ProgressStyle(description_wid…"
      ]
     },
     "metadata": {},
     "output_type": "display_data"
    },
    {
     "data": {
      "application/vnd.jupyter.widget-view+json": {
       "model_id": "",
       "version_major": 2,
       "version_minor": 0
      },
      "text/plain": [
       "HBox(children=(FloatProgress(value=0.0, description='test', max=112584.0, style=ProgressStyle(description_widt…"
      ]
     },
     "metadata": {},
     "output_type": "display_data"
    },
    {
     "name": "stdout",
     "output_type": "stream",
     "text": [
      "Epoch 6: mean training loss: 475.2986189835718, mean test loss: 471.6685497785677.\n"
     ]
    },
    {
     "data": {
      "application/vnd.jupyter.widget-view+json": {
       "model_id": "",
       "version_major": 2,
       "version_minor": 0
      },
      "text/plain": [
       "HBox(children=(FloatProgress(value=0.0, description='train', max=450336.0, style=ProgressStyle(description_wid…"
      ]
     },
     "metadata": {},
     "output_type": "display_data"
    },
    {
     "data": {
      "application/vnd.jupyter.widget-view+json": {
       "model_id": "",
       "version_major": 2,
       "version_minor": 0
      },
      "text/plain": [
       "HBox(children=(FloatProgress(value=0.0, description='test', max=112584.0, style=ProgressStyle(description_widt…"
      ]
     },
     "metadata": {},
     "output_type": "display_data"
    },
    {
     "name": "stdout",
     "output_type": "stream",
     "text": [
      "Epoch 7: mean training loss: 464.07365796945163, mean test loss: 457.38928273291185.\n"
     ]
    },
    {
     "data": {
      "application/vnd.jupyter.widget-view+json": {
       "model_id": "",
       "version_major": 2,
       "version_minor": 0
      },
      "text/plain": [
       "HBox(children=(FloatProgress(value=0.0, description='train', max=450336.0, style=ProgressStyle(description_wid…"
      ]
     },
     "metadata": {},
     "output_type": "display_data"
    },
    {
     "data": {
      "application/vnd.jupyter.widget-view+json": {
       "model_id": "",
       "version_major": 2,
       "version_minor": 0
      },
      "text/plain": [
       "HBox(children=(FloatProgress(value=0.0, description='test', max=112584.0, style=ProgressStyle(description_widt…"
      ]
     },
     "metadata": {},
     "output_type": "display_data"
    },
    {
     "name": "stdout",
     "output_type": "stream",
     "text": [
      "Epoch 8: mean training loss: 454.9487663131359, mean test loss: 451.3026339444136.\n"
     ]
    },
    {
     "data": {
      "application/vnd.jupyter.widget-view+json": {
       "model_id": "",
       "version_major": 2,
       "version_minor": 0
      },
      "text/plain": [
       "HBox(children=(FloatProgress(value=0.0, description='train', max=450336.0, style=ProgressStyle(description_wid…"
      ]
     },
     "metadata": {},
     "output_type": "display_data"
    },
    {
     "data": {
      "application/vnd.jupyter.widget-view+json": {
       "model_id": "",
       "version_major": 2,
       "version_minor": 0
      },
      "text/plain": [
       "HBox(children=(FloatProgress(value=0.0, description='test', max=112584.0, style=ProgressStyle(description_widt…"
      ]
     },
     "metadata": {},
     "output_type": "display_data"
    },
    {
     "name": "stdout",
     "output_type": "stream",
     "text": [
      "Epoch 9: mean training loss: 447.30970026039245, mean test loss: 442.03248277181825.\n"
     ]
    },
    {
     "data": {
      "application/vnd.jupyter.widget-view+json": {
       "model_id": "",
       "version_major": 2,
       "version_minor": 0
      },
      "text/plain": [
       "HBox(children=(FloatProgress(value=0.0, description='train', max=450336.0, style=ProgressStyle(description_wid…"
      ]
     },
     "metadata": {},
     "output_type": "display_data"
    },
    {
     "data": {
      "application/vnd.jupyter.widget-view+json": {
       "model_id": "",
       "version_major": 2,
       "version_minor": 0
      },
      "text/plain": [
       "HBox(children=(FloatProgress(value=0.0, description='test', max=112584.0, style=ProgressStyle(description_widt…"
      ]
     },
     "metadata": {},
     "output_type": "display_data"
    },
    {
     "name": "stdout",
     "output_type": "stream",
     "text": [
      "Epoch 10: mean training loss: 440.5202696268419, mean test loss: 440.19873671964365.\n"
     ]
    },
    {
     "data": {
      "application/vnd.jupyter.widget-view+json": {
       "model_id": "",
       "version_major": 2,
       "version_minor": 0
      },
      "text/plain": [
       "HBox(children=(FloatProgress(value=0.0, description='train', max=450336.0, style=ProgressStyle(description_wid…"
      ]
     },
     "metadata": {},
     "output_type": "display_data"
    },
    {
     "data": {
      "application/vnd.jupyter.widget-view+json": {
       "model_id": "",
       "version_major": 2,
       "version_minor": 0
      },
      "text/plain": [
       "HBox(children=(FloatProgress(value=0.0, description='test', max=112584.0, style=ProgressStyle(description_widt…"
      ]
     },
     "metadata": {},
     "output_type": "display_data"
    },
    {
     "name": "stdout",
     "output_type": "stream",
     "text": [
      "Epoch 11: mean training loss: 434.67735921226904, mean test loss: 431.8451109398388.\n"
     ]
    },
    {
     "data": {
      "application/vnd.jupyter.widget-view+json": {
       "model_id": "",
       "version_major": 2,
       "version_minor": 0
      },
      "text/plain": [
       "HBox(children=(FloatProgress(value=0.0, description='train', max=450336.0, style=ProgressStyle(description_wid…"
      ]
     },
     "metadata": {},
     "output_type": "display_data"
    },
    {
     "data": {
      "application/vnd.jupyter.widget-view+json": {
       "model_id": "",
       "version_major": 2,
       "version_minor": 0
      },
      "text/plain": [
       "HBox(children=(FloatProgress(value=0.0, description='test', max=112584.0, style=ProgressStyle(description_widt…"
      ]
     },
     "metadata": {},
     "output_type": "display_data"
    },
    {
     "name": "stdout",
     "output_type": "stream",
     "text": [
      "Epoch 12: mean training loss: 429.6549274264254, mean test loss: 428.7238286994273.\n"
     ]
    },
    {
     "data": {
      "application/vnd.jupyter.widget-view+json": {
       "model_id": "",
       "version_major": 2,
       "version_minor": 0
      },
      "text/plain": [
       "HBox(children=(FloatProgress(value=0.0, description='train', max=450336.0, style=ProgressStyle(description_wid…"
      ]
     },
     "metadata": {},
     "output_type": "display_data"
    },
    {
     "data": {
      "application/vnd.jupyter.widget-view+json": {
       "model_id": "",
       "version_major": 2,
       "version_minor": 0
      },
      "text/plain": [
       "HBox(children=(FloatProgress(value=0.0, description='test', max=112584.0, style=ProgressStyle(description_widt…"
      ]
     },
     "metadata": {},
     "output_type": "display_data"
    },
    {
     "name": "stdout",
     "output_type": "stream",
     "text": [
      "Epoch 13: mean training loss: 425.12217884940276, mean test loss: 428.99439795117365.\n"
     ]
    },
    {
     "data": {
      "application/vnd.jupyter.widget-view+json": {
       "model_id": "",
       "version_major": 2,
       "version_minor": 0
      },
      "text/plain": [
       "HBox(children=(FloatProgress(value=0.0, description='train', max=450336.0, style=ProgressStyle(description_wid…"
      ]
     },
     "metadata": {},
     "output_type": "display_data"
    },
    {
     "data": {
      "application/vnd.jupyter.widget-view+json": {
       "model_id": "",
       "version_major": 2,
       "version_minor": 0
      },
      "text/plain": [
       "HBox(children=(FloatProgress(value=0.0, description='test', max=112584.0, style=ProgressStyle(description_widt…"
      ]
     },
     "metadata": {},
     "output_type": "display_data"
    },
    {
     "name": "stdout",
     "output_type": "stream",
     "text": [
      "Epoch 14: mean training loss: 421.2320494634175, mean test loss: 421.04393577467255.\n"
     ]
    },
    {
     "data": {
      "application/vnd.jupyter.widget-view+json": {
       "model_id": "",
       "version_major": 2,
       "version_minor": 0
      },
      "text/plain": [
       "HBox(children=(FloatProgress(value=0.0, description='train', max=450336.0, style=ProgressStyle(description_wid…"
      ]
     },
     "metadata": {},
     "output_type": "display_data"
    },
    {
     "data": {
      "application/vnd.jupyter.widget-view+json": {
       "model_id": "",
       "version_major": 2,
       "version_minor": 0
      },
      "text/plain": [
       "HBox(children=(FloatProgress(value=0.0, description='test', max=112584.0, style=ProgressStyle(description_widt…"
      ]
     },
     "metadata": {},
     "output_type": "display_data"
    },
    {
     "name": "stdout",
     "output_type": "stream",
     "text": [
      "Epoch 15: mean training loss: 417.61511850685724, mean test loss: 422.4420544574792.\n"
     ]
    },
    {
     "data": {
      "application/vnd.jupyter.widget-view+json": {
       "model_id": "",
       "version_major": 2,
       "version_minor": 0
      },
      "text/plain": [
       "HBox(children=(FloatProgress(value=0.0, description='train', max=450336.0, style=ProgressStyle(description_wid…"
      ]
     },
     "metadata": {},
     "output_type": "display_data"
    },
    {
     "data": {
      "application/vnd.jupyter.widget-view+json": {
       "model_id": "",
       "version_major": 2,
       "version_minor": 0
      },
      "text/plain": [
       "HBox(children=(FloatProgress(value=0.0, description='test', max=112584.0, style=ProgressStyle(description_widt…"
      ]
     },
     "metadata": {},
     "output_type": "display_data"
    },
    {
     "name": "stdout",
     "output_type": "stream",
     "text": [
      "Epoch 16: mean training loss: 414.33846445484454, mean test loss: 412.80674678454443.\n"
     ]
    },
    {
     "data": {
      "application/vnd.jupyter.widget-view+json": {
       "model_id": "",
       "version_major": 2,
       "version_minor": 0
      },
      "text/plain": [
       "HBox(children=(FloatProgress(value=0.0, description='train', max=450336.0, style=ProgressStyle(description_wid…"
      ]
     },
     "metadata": {},
     "output_type": "display_data"
    },
    {
     "data": {
      "application/vnd.jupyter.widget-view+json": {
       "model_id": "",
       "version_major": 2,
       "version_minor": 0
      },
      "text/plain": [
       "HBox(children=(FloatProgress(value=0.0, description='test', max=112584.0, style=ProgressStyle(description_widt…"
      ]
     },
     "metadata": {},
     "output_type": "display_data"
    },
    {
     "name": "stdout",
     "output_type": "stream",
     "text": [
      "Epoch 17: mean training loss: 411.356299991751, mean test loss: 410.5467989562815.\n"
     ]
    },
    {
     "data": {
      "application/vnd.jupyter.widget-view+json": {
       "model_id": "",
       "version_major": 2,
       "version_minor": 0
      },
      "text/plain": [
       "HBox(children=(FloatProgress(value=0.0, description='train', max=450336.0, style=ProgressStyle(description_wid…"
      ]
     },
     "metadata": {},
     "output_type": "display_data"
    },
    {
     "data": {
      "application/vnd.jupyter.widget-view+json": {
       "model_id": "",
       "version_major": 2,
       "version_minor": 0
      },
      "text/plain": [
       "HBox(children=(FloatProgress(value=0.0, description='test', max=112584.0, style=ProgressStyle(description_widt…"
      ]
     },
     "metadata": {},
     "output_type": "display_data"
    },
    {
     "name": "stdout",
     "output_type": "stream",
     "text": [
      "Epoch 18: mean training loss: 408.50835377178254, mean test loss: 407.3856372493743.\n"
     ]
    },
    {
     "data": {
      "application/vnd.jupyter.widget-view+json": {
       "model_id": "",
       "version_major": 2,
       "version_minor": 0
      },
      "text/plain": [
       "HBox(children=(FloatProgress(value=0.0, description='train', max=450336.0, style=ProgressStyle(description_wid…"
      ]
     },
     "metadata": {},
     "output_type": "display_data"
    },
    {
     "data": {
      "application/vnd.jupyter.widget-view+json": {
       "model_id": "",
       "version_major": 2,
       "version_minor": 0
      },
      "text/plain": [
       "HBox(children=(FloatProgress(value=0.0, description='test', max=112584.0, style=ProgressStyle(description_widt…"
      ]
     },
     "metadata": {},
     "output_type": "display_data"
    },
    {
     "name": "stdout",
     "output_type": "stream",
     "text": [
      "Epoch 19: mean training loss: 406.11445940154994, mean test loss: 403.3074453091355.\n"
     ]
    },
    {
     "data": {
      "application/vnd.jupyter.widget-view+json": {
       "model_id": "",
       "version_major": 2,
       "version_minor": 0
      },
      "text/plain": [
       "HBox(children=(FloatProgress(value=0.0, description='train', max=450336.0, style=ProgressStyle(description_wid…"
      ]
     },
     "metadata": {},
     "output_type": "display_data"
    },
    {
     "data": {
      "application/vnd.jupyter.widget-view+json": {
       "model_id": "",
       "version_major": 2,
       "version_minor": 0
      },
      "text/plain": [
       "HBox(children=(FloatProgress(value=0.0, description='test', max=112584.0, style=ProgressStyle(description_widt…"
      ]
     },
     "metadata": {},
     "output_type": "display_data"
    },
    {
     "name": "stdout",
     "output_type": "stream",
     "text": [
      "Epoch 20: mean training loss: 403.60852285660735, mean test loss: 404.80274984376274.\n"
     ]
    },
    {
     "data": {
      "application/vnd.jupyter.widget-view+json": {
       "model_id": "",
       "version_major": 2,
       "version_minor": 0
      },
      "text/plain": [
       "HBox(children=(FloatProgress(value=0.0, description='train', max=450336.0, style=ProgressStyle(description_wid…"
      ]
     },
     "metadata": {},
     "output_type": "display_data"
    },
    {
     "data": {
      "application/vnd.jupyter.widget-view+json": {
       "model_id": "",
       "version_major": 2,
       "version_minor": 0
      },
      "text/plain": [
       "HBox(children=(FloatProgress(value=0.0, description='test', max=112584.0, style=ProgressStyle(description_widt…"
      ]
     },
     "metadata": {},
     "output_type": "display_data"
    },
    {
     "name": "stdout",
     "output_type": "stream",
     "text": [
      "Epoch 21: mean training loss: 401.4311967461058, mean test loss: 399.8865248934848.\n"
     ]
    },
    {
     "data": {
      "application/vnd.jupyter.widget-view+json": {
       "model_id": "",
       "version_major": 2,
       "version_minor": 0
      },
      "text/plain": [
       "HBox(children=(FloatProgress(value=0.0, description='train', max=450336.0, style=ProgressStyle(description_wid…"
      ]
     },
     "metadata": {},
     "output_type": "display_data"
    },
    {
     "data": {
      "application/vnd.jupyter.widget-view+json": {
       "model_id": "",
       "version_major": 2,
       "version_minor": 0
      },
      "text/plain": [
       "HBox(children=(FloatProgress(value=0.0, description='test', max=112584.0, style=ProgressStyle(description_widt…"
      ]
     },
     "metadata": {},
     "output_type": "display_data"
    },
    {
     "name": "stdout",
     "output_type": "stream",
     "text": [
      "Epoch 22: mean training loss: 399.2846495363916, mean test loss: 398.1051475465878.\n"
     ]
    },
    {
     "data": {
      "application/vnd.jupyter.widget-view+json": {
       "model_id": "",
       "version_major": 2,
       "version_minor": 0
      },
      "text/plain": [
       "HBox(children=(FloatProgress(value=0.0, description='train', max=450336.0, style=ProgressStyle(description_wid…"
      ]
     },
     "metadata": {},
     "output_type": "display_data"
    },
    {
     "data": {
      "application/vnd.jupyter.widget-view+json": {
       "model_id": "",
       "version_major": 2,
       "version_minor": 0
      },
      "text/plain": [
       "HBox(children=(FloatProgress(value=0.0, description='test', max=112584.0, style=ProgressStyle(description_widt…"
      ]
     },
     "metadata": {},
     "output_type": "display_data"
    },
    {
     "name": "stdout",
     "output_type": "stream",
     "text": [
      "Epoch 23: mean training loss: 397.3357981723619, mean test loss: 399.23593828807395.\n"
     ]
    },
    {
     "data": {
      "application/vnd.jupyter.widget-view+json": {
       "model_id": "",
       "version_major": 2,
       "version_minor": 0
      },
      "text/plain": [
       "HBox(children=(FloatProgress(value=0.0, description='train', max=450336.0, style=ProgressStyle(description_wid…"
      ]
     },
     "metadata": {},
     "output_type": "display_data"
    },
    {
     "data": {
      "application/vnd.jupyter.widget-view+json": {
       "model_id": "",
       "version_major": 2,
       "version_minor": 0
      },
      "text/plain": [
       "HBox(children=(FloatProgress(value=0.0, description='test', max=112584.0, style=ProgressStyle(description_widt…"
      ]
     },
     "metadata": {},
     "output_type": "display_data"
    },
    {
     "name": "stdout",
     "output_type": "stream",
     "text": [
      "Epoch 24: mean training loss: 395.41121865088843, mean test loss: 393.4779213532146.\n"
     ]
    },
    {
     "data": {
      "application/vnd.jupyter.widget-view+json": {
       "model_id": "",
       "version_major": 2,
       "version_minor": 0
      },
      "text/plain": [
       "HBox(children=(FloatProgress(value=0.0, description='train', max=450336.0, style=ProgressStyle(description_wid…"
      ]
     },
     "metadata": {},
     "output_type": "display_data"
    },
    {
     "data": {
      "application/vnd.jupyter.widget-view+json": {
       "model_id": "",
       "version_major": 2,
       "version_minor": 0
      },
      "text/plain": [
       "HBox(children=(FloatProgress(value=0.0, description='test', max=112584.0, style=ProgressStyle(description_widt…"
      ]
     },
     "metadata": {},
     "output_type": "display_data"
    },
    {
     "name": "stdout",
     "output_type": "stream",
     "text": [
      "Epoch 25: mean training loss: 393.74351408177836, mean test loss: 395.45768286344435.\n"
     ]
    },
    {
     "data": {
      "application/vnd.jupyter.widget-view+json": {
       "model_id": "",
       "version_major": 2,
       "version_minor": 0
      },
      "text/plain": [
       "HBox(children=(FloatProgress(value=0.0, description='train', max=450336.0, style=ProgressStyle(description_wid…"
      ]
     },
     "metadata": {},
     "output_type": "display_data"
    },
    {
     "data": {
      "application/vnd.jupyter.widget-view+json": {
       "model_id": "",
       "version_major": 2,
       "version_minor": 0
      },
      "text/plain": [
       "HBox(children=(FloatProgress(value=0.0, description='test', max=112584.0, style=ProgressStyle(description_widt…"
      ]
     },
     "metadata": {},
     "output_type": "display_data"
    },
    {
     "name": "stdout",
     "output_type": "stream",
     "text": [
      "Epoch 26: mean training loss: 392.0108621205754, mean test loss: 393.58919943440384.\n"
     ]
    },
    {
     "data": {
      "application/vnd.jupyter.widget-view+json": {
       "model_id": "",
       "version_major": 2,
       "version_minor": 0
      },
      "text/plain": [
       "HBox(children=(FloatProgress(value=0.0, description='train', max=450336.0, style=ProgressStyle(description_wid…"
      ]
     },
     "metadata": {},
     "output_type": "display_data"
    },
    {
     "data": {
      "application/vnd.jupyter.widget-view+json": {
       "model_id": "",
       "version_major": 2,
       "version_minor": 0
      },
      "text/plain": [
       "HBox(children=(FloatProgress(value=0.0, description='test', max=112584.0, style=ProgressStyle(description_widt…"
      ]
     },
     "metadata": {},
     "output_type": "display_data"
    },
    {
     "name": "stdout",
     "output_type": "stream",
     "text": [
      "Epoch 27: mean training loss: 390.3658702700307, mean test loss: 390.9661431485026.\n"
     ]
    },
    {
     "data": {
      "application/vnd.jupyter.widget-view+json": {
       "model_id": "",
       "version_major": 2,
       "version_minor": 0
      },
      "text/plain": [
       "HBox(children=(FloatProgress(value=0.0, description='train', max=450336.0, style=ProgressStyle(description_wid…"
      ]
     },
     "metadata": {},
     "output_type": "display_data"
    },
    {
     "data": {
      "application/vnd.jupyter.widget-view+json": {
       "model_id": "",
       "version_major": 2,
       "version_minor": 0
      },
      "text/plain": [
       "HBox(children=(FloatProgress(value=0.0, description='test', max=112584.0, style=ProgressStyle(description_widt…"
      ]
     },
     "metadata": {},
     "output_type": "display_data"
    },
    {
     "name": "stdout",
     "output_type": "stream",
     "text": [
      "Epoch 28: mean training loss: 388.7667908389406, mean test loss: 392.067216673699.\n"
     ]
    },
    {
     "data": {
      "application/vnd.jupyter.widget-view+json": {
       "model_id": "",
       "version_major": 2,
       "version_minor": 0
      },
      "text/plain": [
       "HBox(children=(FloatProgress(value=0.0, description='train', max=450336.0, style=ProgressStyle(description_wid…"
      ]
     },
     "metadata": {},
     "output_type": "display_data"
    },
    {
     "data": {
      "application/vnd.jupyter.widget-view+json": {
       "model_id": "",
       "version_major": 2,
       "version_minor": 0
      },
      "text/plain": [
       "HBox(children=(FloatProgress(value=0.0, description='test', max=112584.0, style=ProgressStyle(description_widt…"
      ]
     },
     "metadata": {},
     "output_type": "display_data"
    },
    {
     "name": "stdout",
     "output_type": "stream",
     "text": [
      "Epoch 29: mean training loss: 387.234570711633, mean test loss: 389.9041182079829.\n"
     ]
    },
    {
     "data": {
      "application/vnd.jupyter.widget-view+json": {
       "model_id": "",
       "version_major": 2,
       "version_minor": 0
      },
      "text/plain": [
       "HBox(children=(FloatProgress(value=0.0, description='train', max=450336.0, style=ProgressStyle(description_wid…"
      ]
     },
     "metadata": {},
     "output_type": "display_data"
    },
    {
     "data": {
      "application/vnd.jupyter.widget-view+json": {
       "model_id": "",
       "version_major": 2,
       "version_minor": 0
      },
      "text/plain": [
       "HBox(children=(FloatProgress(value=0.0, description='test', max=112584.0, style=ProgressStyle(description_widt…"
      ]
     },
     "metadata": {},
     "output_type": "display_data"
    },
    {
     "name": "stdout",
     "output_type": "stream",
     "text": [
      "Epoch 30: mean training loss: 385.8300891387592, mean test loss: 386.8468741119979.\n"
     ]
    },
    {
     "data": {
      "application/vnd.jupyter.widget-view+json": {
       "model_id": "",
       "version_major": 2,
       "version_minor": 0
      },
      "text/plain": [
       "HBox(children=(FloatProgress(value=0.0, description='train', max=450336.0, style=ProgressStyle(description_wid…"
      ]
     },
     "metadata": {},
     "output_type": "display_data"
    },
    {
     "data": {
      "application/vnd.jupyter.widget-view+json": {
       "model_id": "",
       "version_major": 2,
       "version_minor": 0
      },
      "text/plain": [
       "HBox(children=(FloatProgress(value=0.0, description='test', max=112584.0, style=ProgressStyle(description_widt…"
      ]
     },
     "metadata": {},
     "output_type": "display_data"
    },
    {
     "name": "stdout",
     "output_type": "stream",
     "text": [
      "Epoch 31: mean training loss: 384.374081702025, mean test loss: 388.5620158085782.\n"
     ]
    },
    {
     "data": {
      "application/vnd.jupyter.widget-view+json": {
       "model_id": "",
       "version_major": 2,
       "version_minor": 0
      },
      "text/plain": [
       "HBox(children=(FloatProgress(value=0.0, description='train', max=450336.0, style=ProgressStyle(description_wid…"
      ]
     },
     "metadata": {},
     "output_type": "display_data"
    },
    {
     "data": {
      "application/vnd.jupyter.widget-view+json": {
       "model_id": "",
       "version_major": 2,
       "version_minor": 0
      },
      "text/plain": [
       "HBox(children=(FloatProgress(value=0.0, description='test', max=112584.0, style=ProgressStyle(description_widt…"
      ]
     },
     "metadata": {},
     "output_type": "display_data"
    },
    {
     "name": "stdout",
     "output_type": "stream",
     "text": [
      "Epoch 32: mean training loss: 382.9737943839834, mean test loss: 385.2880447288824.\n"
     ]
    },
    {
     "data": {
      "application/vnd.jupyter.widget-view+json": {
       "model_id": "",
       "version_major": 2,
       "version_minor": 0
      },
      "text/plain": [
       "HBox(children=(FloatProgress(value=0.0, description='train', max=450336.0, style=ProgressStyle(description_wid…"
      ]
     },
     "metadata": {},
     "output_type": "display_data"
    },
    {
     "data": {
      "application/vnd.jupyter.widget-view+json": {
       "model_id": "",
       "version_major": 2,
       "version_minor": 0
      },
      "text/plain": [
       "HBox(children=(FloatProgress(value=0.0, description='test', max=112584.0, style=ProgressStyle(description_widt…"
      ]
     },
     "metadata": {},
     "output_type": "display_data"
    },
    {
     "name": "stdout",
     "output_type": "stream",
     "text": [
      "Epoch 33: mean training loss: 381.58847016111787, mean test loss: 383.3570940465567.\n"
     ]
    },
    {
     "data": {
      "application/vnd.jupyter.widget-view+json": {
       "model_id": "",
       "version_major": 2,
       "version_minor": 0
      },
      "text/plain": [
       "HBox(children=(FloatProgress(value=0.0, description='train', max=450336.0, style=ProgressStyle(description_wid…"
      ]
     },
     "metadata": {},
     "output_type": "display_data"
    },
    {
     "data": {
      "application/vnd.jupyter.widget-view+json": {
       "model_id": "",
       "version_major": 2,
       "version_minor": 0
      },
      "text/plain": [
       "HBox(children=(FloatProgress(value=0.0, description='test', max=112584.0, style=ProgressStyle(description_widt…"
      ]
     },
     "metadata": {},
     "output_type": "display_data"
    },
    {
     "name": "stdout",
     "output_type": "stream",
     "text": [
      "Epoch 34: mean training loss: 380.2959430494822, mean test loss: 389.5408929036572.\n"
     ]
    },
    {
     "data": {
      "application/vnd.jupyter.widget-view+json": {
       "model_id": "",
       "version_major": 2,
       "version_minor": 0
      },
      "text/plain": [
       "HBox(children=(FloatProgress(value=0.0, description='train', max=450336.0, style=ProgressStyle(description_wid…"
      ]
     },
     "metadata": {},
     "output_type": "display_data"
    },
    {
     "data": {
      "application/vnd.jupyter.widget-view+json": {
       "model_id": "",
       "version_major": 2,
       "version_minor": 0
      },
      "text/plain": [
       "HBox(children=(FloatProgress(value=0.0, description='test', max=112584.0, style=ProgressStyle(description_widt…"
      ]
     },
     "metadata": {},
     "output_type": "display_data"
    },
    {
     "name": "stdout",
     "output_type": "stream",
     "text": [
      "Epoch 35: mean training loss: 379.14239685099864, mean test loss: 382.768073797514.\n"
     ]
    },
    {
     "data": {
      "application/vnd.jupyter.widget-view+json": {
       "model_id": "",
       "version_major": 2,
       "version_minor": 0
      },
      "text/plain": [
       "HBox(children=(FloatProgress(value=0.0, description='train', max=450336.0, style=ProgressStyle(description_wid…"
      ]
     },
     "metadata": {},
     "output_type": "display_data"
    },
    {
     "data": {
      "application/vnd.jupyter.widget-view+json": {
       "model_id": "",
       "version_major": 2,
       "version_minor": 0
      },
      "text/plain": [
       "HBox(children=(FloatProgress(value=0.0, description='test', max=112584.0, style=ProgressStyle(description_widt…"
      ]
     },
     "metadata": {},
     "output_type": "display_data"
    },
    {
     "name": "stdout",
     "output_type": "stream",
     "text": [
      "Epoch 36: mean training loss: 378.0377136811869, mean test loss: 383.9677690129743.\n"
     ]
    },
    {
     "data": {
      "application/vnd.jupyter.widget-view+json": {
       "model_id": "",
       "version_major": 2,
       "version_minor": 0
      },
      "text/plain": [
       "HBox(children=(FloatProgress(value=0.0, description='train', max=450336.0, style=ProgressStyle(description_wid…"
      ]
     },
     "metadata": {},
     "output_type": "display_data"
    },
    {
     "data": {
      "application/vnd.jupyter.widget-view+json": {
       "model_id": "",
       "version_major": 2,
       "version_minor": 0
      },
      "text/plain": [
       "HBox(children=(FloatProgress(value=0.0, description='test', max=112584.0, style=ProgressStyle(description_widt…"
      ]
     },
     "metadata": {},
     "output_type": "display_data"
    },
    {
     "name": "stdout",
     "output_type": "stream",
     "text": [
      "Epoch 37: mean training loss: 376.9503850963234, mean test loss: 382.86929267106564.\n"
     ]
    },
    {
     "data": {
      "application/vnd.jupyter.widget-view+json": {
       "model_id": "",
       "version_major": 2,
       "version_minor": 0
      },
      "text/plain": [
       "HBox(children=(FloatProgress(value=0.0, description='train', max=450336.0, style=ProgressStyle(description_wid…"
      ]
     },
     "metadata": {},
     "output_type": "display_data"
    },
    {
     "data": {
      "application/vnd.jupyter.widget-view+json": {
       "model_id": "",
       "version_major": 2,
       "version_minor": 0
      },
      "text/plain": [
       "HBox(children=(FloatProgress(value=0.0, description='test', max=112584.0, style=ProgressStyle(description_widt…"
      ]
     },
     "metadata": {},
     "output_type": "display_data"
    },
    {
     "name": "stdout",
     "output_type": "stream",
     "text": [
      "Epoch 38: mean training loss: 375.89942583189514, mean test loss: 379.4347790778594.\n"
     ]
    },
    {
     "data": {
      "application/vnd.jupyter.widget-view+json": {
       "model_id": "",
       "version_major": 2,
       "version_minor": 0
      },
      "text/plain": [
       "HBox(children=(FloatProgress(value=0.0, description='train', max=450336.0, style=ProgressStyle(description_wid…"
      ]
     },
     "metadata": {},
     "output_type": "display_data"
    },
    {
     "data": {
      "application/vnd.jupyter.widget-view+json": {
       "model_id": "",
       "version_major": 2,
       "version_minor": 0
      },
      "text/plain": [
       "HBox(children=(FloatProgress(value=0.0, description='test', max=112584.0, style=ProgressStyle(description_widt…"
      ]
     },
     "metadata": {},
     "output_type": "display_data"
    },
    {
     "name": "stdout",
     "output_type": "stream",
     "text": [
      "Epoch 39: mean training loss: 374.8082454703827, mean test loss: 381.437217706981.\n"
     ]
    },
    {
     "data": {
      "application/vnd.jupyter.widget-view+json": {
       "model_id": "",
       "version_major": 2,
       "version_minor": 0
      },
      "text/plain": [
       "HBox(children=(FloatProgress(value=0.0, description='train', max=450336.0, style=ProgressStyle(description_wid…"
      ]
     },
     "metadata": {},
     "output_type": "display_data"
    },
    {
     "data": {
      "application/vnd.jupyter.widget-view+json": {
       "model_id": "",
       "version_major": 2,
       "version_minor": 0
      },
      "text/plain": [
       "HBox(children=(FloatProgress(value=0.0, description='test', max=112584.0, style=ProgressStyle(description_widt…"
      ]
     },
     "metadata": {},
     "output_type": "display_data"
    },
    {
     "name": "stdout",
     "output_type": "stream",
     "text": [
      "Epoch 40: mean training loss: 373.896304534009, mean test loss: 379.34785172470527.\n"
     ]
    },
    {
     "data": {
      "application/vnd.jupyter.widget-view+json": {
       "model_id": "",
       "version_major": 2,
       "version_minor": 0
      },
      "text/plain": [
       "HBox(children=(FloatProgress(value=0.0, description='train', max=450336.0, style=ProgressStyle(description_wid…"
      ]
     },
     "metadata": {},
     "output_type": "display_data"
    },
    {
     "data": {
      "application/vnd.jupyter.widget-view+json": {
       "model_id": "",
       "version_major": 2,
       "version_minor": 0
      },
      "text/plain": [
       "HBox(children=(FloatProgress(value=0.0, description='test', max=112584.0, style=ProgressStyle(description_widt…"
      ]
     },
     "metadata": {},
     "output_type": "display_data"
    },
    {
     "name": "stdout",
     "output_type": "stream",
     "text": [
      "Epoch 41: mean training loss: 372.9410151299456, mean test loss: 371.7237384073822.\n"
     ]
    },
    {
     "data": {
      "application/vnd.jupyter.widget-view+json": {
       "model_id": "",
       "version_major": 2,
       "version_minor": 0
      },
      "text/plain": [
       "HBox(children=(FloatProgress(value=0.0, description='train', max=450336.0, style=ProgressStyle(description_wid…"
      ]
     },
     "metadata": {},
     "output_type": "display_data"
    },
    {
     "data": {
      "application/vnd.jupyter.widget-view+json": {
       "model_id": "",
       "version_major": 2,
       "version_minor": 0
      },
      "text/plain": [
       "HBox(children=(FloatProgress(value=0.0, description='test', max=112584.0, style=ProgressStyle(description_widt…"
      ]
     },
     "metadata": {},
     "output_type": "display_data"
    },
    {
     "name": "stdout",
     "output_type": "stream",
     "text": [
      "Epoch 42: mean training loss: 371.95958847239064, mean test loss: 377.8011823777306.\n"
     ]
    },
    {
     "data": {
      "application/vnd.jupyter.widget-view+json": {
       "model_id": "",
       "version_major": 2,
       "version_minor": 0
      },
      "text/plain": [
       "HBox(children=(FloatProgress(value=0.0, description='train', max=450336.0, style=ProgressStyle(description_wid…"
      ]
     },
     "metadata": {},
     "output_type": "display_data"
    },
    {
     "data": {
      "application/vnd.jupyter.widget-view+json": {
       "model_id": "",
       "version_major": 2,
       "version_minor": 0
      },
      "text/plain": [
       "HBox(children=(FloatProgress(value=0.0, description='test', max=112584.0, style=ProgressStyle(description_widt…"
      ]
     },
     "metadata": {},
     "output_type": "display_data"
    },
    {
     "name": "stdout",
     "output_type": "stream",
     "text": [
      "Epoch 43: mean training loss: 371.2045526689688, mean test loss: 376.6627738624377.\n"
     ]
    },
    {
     "data": {
      "application/vnd.jupyter.widget-view+json": {
       "model_id": "",
       "version_major": 2,
       "version_minor": 0
      },
      "text/plain": [
       "HBox(children=(FloatProgress(value=0.0, description='train', max=450336.0, style=ProgressStyle(description_wid…"
      ]
     },
     "metadata": {},
     "output_type": "display_data"
    },
    {
     "data": {
      "application/vnd.jupyter.widget-view+json": {
       "model_id": "",
       "version_major": 2,
       "version_minor": 0
      },
      "text/plain": [
       "HBox(children=(FloatProgress(value=0.0, description='test', max=112584.0, style=ProgressStyle(description_widt…"
      ]
     },
     "metadata": {},
     "output_type": "display_data"
    },
    {
     "name": "stdout",
     "output_type": "stream",
     "text": [
      "Epoch 44: mean training loss: 370.26298123205476, mean test loss: 370.18388332663625.\n"
     ]
    },
    {
     "data": {
      "application/vnd.jupyter.widget-view+json": {
       "model_id": "",
       "version_major": 2,
       "version_minor": 0
      },
      "text/plain": [
       "HBox(children=(FloatProgress(value=0.0, description='train', max=450336.0, style=ProgressStyle(description_wid…"
      ]
     },
     "metadata": {},
     "output_type": "display_data"
    },
    {
     "data": {
      "application/vnd.jupyter.widget-view+json": {
       "model_id": "",
       "version_major": 2,
       "version_minor": 0
      },
      "text/plain": [
       "HBox(children=(FloatProgress(value=0.0, description='test', max=112584.0, style=ProgressStyle(description_widt…"
      ]
     },
     "metadata": {},
     "output_type": "display_data"
    },
    {
     "name": "stdout",
     "output_type": "stream",
     "text": [
      "Epoch 45: mean training loss: 369.4280516637682, mean test loss: 372.0205866548287.\n"
     ]
    },
    {
     "data": {
      "application/vnd.jupyter.widget-view+json": {
       "model_id": "",
       "version_major": 2,
       "version_minor": 0
      },
      "text/plain": [
       "HBox(children=(FloatProgress(value=0.0, description='train', max=450336.0, style=ProgressStyle(description_wid…"
      ]
     },
     "metadata": {},
     "output_type": "display_data"
    },
    {
     "data": {
      "application/vnd.jupyter.widget-view+json": {
       "model_id": "",
       "version_major": 2,
       "version_minor": 0
      },
      "text/plain": [
       "HBox(children=(FloatProgress(value=0.0, description='test', max=112584.0, style=ProgressStyle(description_widt…"
      ]
     },
     "metadata": {},
     "output_type": "display_data"
    },
    {
     "name": "stdout",
     "output_type": "stream",
     "text": [
      "Epoch 46: mean training loss: 368.5718911011692, mean test loss: 370.81902208157476.\n"
     ]
    },
    {
     "data": {
      "application/vnd.jupyter.widget-view+json": {
       "model_id": "",
       "version_major": 2,
       "version_minor": 0
      },
      "text/plain": [
       "HBox(children=(FloatProgress(value=0.0, description='train', max=450336.0, style=ProgressStyle(description_wid…"
      ]
     },
     "metadata": {},
     "output_type": "display_data"
    },
    {
     "data": {
      "application/vnd.jupyter.widget-view+json": {
       "model_id": "",
       "version_major": 2,
       "version_minor": 0
      },
      "text/plain": [
       "HBox(children=(FloatProgress(value=0.0, description='test', max=112584.0, style=ProgressStyle(description_widt…"
      ]
     },
     "metadata": {},
     "output_type": "display_data"
    },
    {
     "name": "stdout",
     "output_type": "stream",
     "text": [
      "Epoch 47: mean training loss: 367.79610082127857, mean test loss: 370.5145989888802.\n"
     ]
    },
    {
     "data": {
      "application/vnd.jupyter.widget-view+json": {
       "model_id": "",
       "version_major": 2,
       "version_minor": 0
      },
      "text/plain": [
       "HBox(children=(FloatProgress(value=0.0, description='train', max=450336.0, style=ProgressStyle(description_wid…"
      ]
     },
     "metadata": {},
     "output_type": "display_data"
    },
    {
     "data": {
      "application/vnd.jupyter.widget-view+json": {
       "model_id": "",
       "version_major": 2,
       "version_minor": 0
      },
      "text/plain": [
       "HBox(children=(FloatProgress(value=0.0, description='test', max=112584.0, style=ProgressStyle(description_widt…"
      ]
     },
     "metadata": {},
     "output_type": "display_data"
    },
    {
     "name": "stdout",
     "output_type": "stream",
     "text": [
      "Epoch 48: mean training loss: 367.00273789229834, mean test loss: 367.13163214855456.\n"
     ]
    },
    {
     "data": {
      "application/vnd.jupyter.widget-view+json": {
       "model_id": "",
       "version_major": 2,
       "version_minor": 0
      },
      "text/plain": [
       "HBox(children=(FloatProgress(value=0.0, description='train', max=450336.0, style=ProgressStyle(description_wid…"
      ]
     },
     "metadata": {},
     "output_type": "display_data"
    },
    {
     "data": {
      "application/vnd.jupyter.widget-view+json": {
       "model_id": "",
       "version_major": 2,
       "version_minor": 0
      },
      "text/plain": [
       "HBox(children=(FloatProgress(value=0.0, description='test', max=112584.0, style=ProgressStyle(description_widt…"
      ]
     },
     "metadata": {},
     "output_type": "display_data"
    },
    {
     "name": "stdout",
     "output_type": "stream",
     "text": [
      "Epoch 49: mean training loss: 366.2913554261541, mean test loss: 364.6909479169562.\n"
     ]
    },
    {
     "data": {
      "application/vnd.jupyter.widget-view+json": {
       "model_id": "",
       "version_major": 2,
       "version_minor": 0
      },
      "text/plain": [
       "HBox(children=(FloatProgress(value=0.0, description='train', max=450336.0, style=ProgressStyle(description_wid…"
      ]
     },
     "metadata": {},
     "output_type": "display_data"
    },
    {
     "data": {
      "application/vnd.jupyter.widget-view+json": {
       "model_id": "",
       "version_major": 2,
       "version_minor": 0
      },
      "text/plain": [
       "HBox(children=(FloatProgress(value=0.0, description='test', max=112584.0, style=ProgressStyle(description_widt…"
      ]
     },
     "metadata": {},
     "output_type": "display_data"
    },
    {
     "name": "stdout",
     "output_type": "stream",
     "text": [
      "Epoch 50: mean training loss: 365.59668927155246, mean test loss: 367.7599131542423.\n"
     ]
    },
    {
     "data": {
      "application/vnd.jupyter.widget-view+json": {
       "model_id": "",
       "version_major": 2,
       "version_minor": 0
      },
      "text/plain": [
       "HBox(children=(FloatProgress(value=0.0, description='train', max=450336.0, style=ProgressStyle(description_wid…"
      ]
     },
     "metadata": {},
     "output_type": "display_data"
    },
    {
     "data": {
      "application/vnd.jupyter.widget-view+json": {
       "model_id": "",
       "version_major": 2,
       "version_minor": 0
      },
      "text/plain": [
       "HBox(children=(FloatProgress(value=0.0, description='test', max=112584.0, style=ProgressStyle(description_widt…"
      ]
     },
     "metadata": {},
     "output_type": "display_data"
    },
    {
     "name": "stdout",
     "output_type": "stream",
     "text": [
      "Epoch 51: mean training loss: 364.8554548244694, mean test loss: 367.944422907915.\n"
     ]
    },
    {
     "data": {
      "application/vnd.jupyter.widget-view+json": {
       "model_id": "",
       "version_major": 2,
       "version_minor": 0
      },
      "text/plain": [
       "HBox(children=(FloatProgress(value=0.0, description='train', max=450336.0, style=ProgressStyle(description_wid…"
      ]
     },
     "metadata": {},
     "output_type": "display_data"
    },
    {
     "data": {
      "application/vnd.jupyter.widget-view+json": {
       "model_id": "",
       "version_major": 2,
       "version_minor": 0
      },
      "text/plain": [
       "HBox(children=(FloatProgress(value=0.0, description='test', max=112584.0, style=ProgressStyle(description_widt…"
      ]
     },
     "metadata": {},
     "output_type": "display_data"
    },
    {
     "name": "stdout",
     "output_type": "stream",
     "text": [
      "Epoch 52: mean training loss: 364.1448656291263, mean test loss: 366.60312199662053.\n"
     ]
    },
    {
     "data": {
      "application/vnd.jupyter.widget-view+json": {
       "model_id": "",
       "version_major": 2,
       "version_minor": 0
      },
      "text/plain": [
       "HBox(children=(FloatProgress(value=0.0, description='train', max=450336.0, style=ProgressStyle(description_wid…"
      ]
     },
     "metadata": {},
     "output_type": "display_data"
    },
    {
     "data": {
      "application/vnd.jupyter.widget-view+json": {
       "model_id": "",
       "version_major": 2,
       "version_minor": 0
      },
      "text/plain": [
       "HBox(children=(FloatProgress(value=0.0, description='test', max=112584.0, style=ProgressStyle(description_widt…"
      ]
     },
     "metadata": {},
     "output_type": "display_data"
    },
    {
     "name": "stdout",
     "output_type": "stream",
     "text": [
      "Epoch 53: mean training loss: 363.41683332015225, mean test loss: 368.2850138164402.\n"
     ]
    },
    {
     "data": {
      "application/vnd.jupyter.widget-view+json": {
       "model_id": "",
       "version_major": 2,
       "version_minor": 0
      },
      "text/plain": [
       "HBox(children=(FloatProgress(value=0.0, description='train', max=450336.0, style=ProgressStyle(description_wid…"
      ]
     },
     "metadata": {},
     "output_type": "display_data"
    },
    {
     "data": {
      "application/vnd.jupyter.widget-view+json": {
       "model_id": "",
       "version_major": 2,
       "version_minor": 0
      },
      "text/plain": [
       "HBox(children=(FloatProgress(value=0.0, description='test', max=112584.0, style=ProgressStyle(description_widt…"
      ]
     },
     "metadata": {},
     "output_type": "display_data"
    },
    {
     "name": "stdout",
     "output_type": "stream",
     "text": [
      "Epoch 54: mean training loss: 362.81401925038523, mean test loss: 363.1391594773339.\n"
     ]
    },
    {
     "data": {
      "application/vnd.jupyter.widget-view+json": {
       "model_id": "",
       "version_major": 2,
       "version_minor": 0
      },
      "text/plain": [
       "HBox(children=(FloatProgress(value=0.0, description='train', max=450336.0, style=ProgressStyle(description_wid…"
      ]
     },
     "metadata": {},
     "output_type": "display_data"
    },
    {
     "data": {
      "application/vnd.jupyter.widget-view+json": {
       "model_id": "",
       "version_major": 2,
       "version_minor": 0
      },
      "text/plain": [
       "HBox(children=(FloatProgress(value=0.0, description='test', max=112584.0, style=ProgressStyle(description_widt…"
      ]
     },
     "metadata": {},
     "output_type": "display_data"
    },
    {
     "name": "stdout",
     "output_type": "stream",
     "text": [
      "Epoch 55: mean training loss: 362.23466910514077, mean test loss: 362.3516581275185.\n"
     ]
    },
    {
     "data": {
      "application/vnd.jupyter.widget-view+json": {
       "model_id": "",
       "version_major": 2,
       "version_minor": 0
      },
      "text/plain": [
       "HBox(children=(FloatProgress(value=0.0, description='train', max=450336.0, style=ProgressStyle(description_wid…"
      ]
     },
     "metadata": {},
     "output_type": "display_data"
    },
    {
     "data": {
      "application/vnd.jupyter.widget-view+json": {
       "model_id": "",
       "version_major": 2,
       "version_minor": 0
      },
      "text/plain": [
       "HBox(children=(FloatProgress(value=0.0, description='test', max=112584.0, style=ProgressStyle(description_widt…"
      ]
     },
     "metadata": {},
     "output_type": "display_data"
    },
    {
     "name": "stdout",
     "output_type": "stream",
     "text": [
      "Epoch 56: mean training loss: 361.55469052166285, mean test loss: 365.0061685726399.\n"
     ]
    },
    {
     "data": {
      "application/vnd.jupyter.widget-view+json": {
       "model_id": "",
       "version_major": 2,
       "version_minor": 0
      },
      "text/plain": [
       "HBox(children=(FloatProgress(value=0.0, description='train', max=450336.0, style=ProgressStyle(description_wid…"
      ]
     },
     "metadata": {},
     "output_type": "display_data"
    },
    {
     "data": {
      "application/vnd.jupyter.widget-view+json": {
       "model_id": "",
       "version_major": 2,
       "version_minor": 0
      },
      "text/plain": [
       "HBox(children=(FloatProgress(value=0.0, description='test', max=112584.0, style=ProgressStyle(description_widt…"
      ]
     },
     "metadata": {},
     "output_type": "display_data"
    },
    {
     "name": "stdout",
     "output_type": "stream",
     "text": [
      "Epoch 57: mean training loss: 360.83086852084375, mean test loss: 362.7267028499851.\n"
     ]
    },
    {
     "data": {
      "application/vnd.jupyter.widget-view+json": {
       "model_id": "",
       "version_major": 2,
       "version_minor": 0
      },
      "text/plain": [
       "HBox(children=(FloatProgress(value=0.0, description='train', max=450336.0, style=ProgressStyle(description_wid…"
      ]
     },
     "metadata": {},
     "output_type": "display_data"
    },
    {
     "data": {
      "application/vnd.jupyter.widget-view+json": {
       "model_id": "",
       "version_major": 2,
       "version_minor": 0
      },
      "text/plain": [
       "HBox(children=(FloatProgress(value=0.0, description='test', max=112584.0, style=ProgressStyle(description_widt…"
      ]
     },
     "metadata": {},
     "output_type": "display_data"
    },
    {
     "name": "stdout",
     "output_type": "stream",
     "text": [
      "Epoch 58: mean training loss: 360.2680415493978, mean test loss: 361.562052305409.\n"
     ]
    },
    {
     "data": {
      "application/vnd.jupyter.widget-view+json": {
       "model_id": "",
       "version_major": 2,
       "version_minor": 0
      },
      "text/plain": [
       "HBox(children=(FloatProgress(value=0.0, description='train', max=450336.0, style=ProgressStyle(description_wid…"
      ]
     },
     "metadata": {},
     "output_type": "display_data"
    },
    {
     "data": {
      "application/vnd.jupyter.widget-view+json": {
       "model_id": "",
       "version_major": 2,
       "version_minor": 0
      },
      "text/plain": [
       "HBox(children=(FloatProgress(value=0.0, description='test', max=112584.0, style=ProgressStyle(description_widt…"
      ]
     },
     "metadata": {},
     "output_type": "display_data"
    },
    {
     "name": "stdout",
     "output_type": "stream",
     "text": [
      "Epoch 59: mean training loss: 359.7883895115245, mean test loss: 360.56512317479246.\n"
     ]
    },
    {
     "data": {
      "application/vnd.jupyter.widget-view+json": {
       "model_id": "",
       "version_major": 2,
       "version_minor": 0
      },
      "text/plain": [
       "HBox(children=(FloatProgress(value=0.0, description='train', max=450336.0, style=ProgressStyle(description_wid…"
      ]
     },
     "metadata": {},
     "output_type": "display_data"
    },
    {
     "data": {
      "application/vnd.jupyter.widget-view+json": {
       "model_id": "",
       "version_major": 2,
       "version_minor": 0
      },
      "text/plain": [
       "HBox(children=(FloatProgress(value=0.0, description='test', max=112584.0, style=ProgressStyle(description_widt…"
      ]
     },
     "metadata": {},
     "output_type": "display_data"
    },
    {
     "name": "stdout",
     "output_type": "stream",
     "text": [
      "Epoch 60: mean training loss: 359.0920400687358, mean test loss: 365.1204759547902.\n"
     ]
    },
    {
     "data": {
      "application/vnd.jupyter.widget-view+json": {
       "model_id": "",
       "version_major": 2,
       "version_minor": 0
      },
      "text/plain": [
       "HBox(children=(FloatProgress(value=0.0, description='train', max=450336.0, style=ProgressStyle(description_wid…"
      ]
     },
     "metadata": {},
     "output_type": "display_data"
    },
    {
     "data": {
      "application/vnd.jupyter.widget-view+json": {
       "model_id": "",
       "version_major": 2,
       "version_minor": 0
      },
      "text/plain": [
       "HBox(children=(FloatProgress(value=0.0, description='test', max=112584.0, style=ProgressStyle(description_widt…"
      ]
     },
     "metadata": {},
     "output_type": "display_data"
    },
    {
     "name": "stdout",
     "output_type": "stream",
     "text": [
      "Epoch 61: mean training loss: 358.6121934440178, mean test loss: 358.8036530795301.\n"
     ]
    },
    {
     "data": {
      "application/vnd.jupyter.widget-view+json": {
       "model_id": "",
       "version_major": 2,
       "version_minor": 0
      },
      "text/plain": [
       "HBox(children=(FloatProgress(value=0.0, description='train', max=450336.0, style=ProgressStyle(description_wid…"
      ]
     },
     "metadata": {},
     "output_type": "display_data"
    },
    {
     "data": {
      "application/vnd.jupyter.widget-view+json": {
       "model_id": "",
       "version_major": 2,
       "version_minor": 0
      },
      "text/plain": [
       "HBox(children=(FloatProgress(value=0.0, description='test', max=112584.0, style=ProgressStyle(description_widt…"
      ]
     },
     "metadata": {},
     "output_type": "display_data"
    },
    {
     "name": "stdout",
     "output_type": "stream",
     "text": [
      "Epoch 62: mean training loss: 357.98764268527583, mean test loss: 360.59887242207077.\n"
     ]
    },
    {
     "data": {
      "application/vnd.jupyter.widget-view+json": {
       "model_id": "",
       "version_major": 2,
       "version_minor": 0
      },
      "text/plain": [
       "HBox(children=(FloatProgress(value=0.0, description='train', max=450336.0, style=ProgressStyle(description_wid…"
      ]
     },
     "metadata": {},
     "output_type": "display_data"
    },
    {
     "data": {
      "application/vnd.jupyter.widget-view+json": {
       "model_id": "",
       "version_major": 2,
       "version_minor": 0
      },
      "text/plain": [
       "HBox(children=(FloatProgress(value=0.0, description='test', max=112584.0, style=ProgressStyle(description_widt…"
      ]
     },
     "metadata": {},
     "output_type": "display_data"
    },
    {
     "name": "stdout",
     "output_type": "stream",
     "text": [
      "Epoch 63: mean training loss: 357.4373086031283, mean test loss: 360.09664601841894.\n"
     ]
    },
    {
     "data": {
      "application/vnd.jupyter.widget-view+json": {
       "model_id": "",
       "version_major": 2,
       "version_minor": 0
      },
      "text/plain": [
       "HBox(children=(FloatProgress(value=0.0, description='train', max=450336.0, style=ProgressStyle(description_wid…"
      ]
     },
     "metadata": {},
     "output_type": "display_data"
    },
    {
     "data": {
      "application/vnd.jupyter.widget-view+json": {
       "model_id": "",
       "version_major": 2,
       "version_minor": 0
      },
      "text/plain": [
       "HBox(children=(FloatProgress(value=0.0, description='test', max=112584.0, style=ProgressStyle(description_widt…"
      ]
     },
     "metadata": {},
     "output_type": "display_data"
    },
    {
     "name": "stdout",
     "output_type": "stream",
     "text": [
      "Epoch 64: mean training loss: 356.84166622555756, mean test loss: 361.4400269213172.\n"
     ]
    },
    {
     "data": {
      "application/vnd.jupyter.widget-view+json": {
       "model_id": "",
       "version_major": 2,
       "version_minor": 0
      },
      "text/plain": [
       "HBox(children=(FloatProgress(value=0.0, description='train', max=450336.0, style=ProgressStyle(description_wid…"
      ]
     },
     "metadata": {},
     "output_type": "display_data"
    },
    {
     "data": {
      "application/vnd.jupyter.widget-view+json": {
       "model_id": "",
       "version_major": 2,
       "version_minor": 0
      },
      "text/plain": [
       "HBox(children=(FloatProgress(value=0.0, description='test', max=112584.0, style=ProgressStyle(description_widt…"
      ]
     },
     "metadata": {},
     "output_type": "display_data"
    },
    {
     "name": "stdout",
     "output_type": "stream",
     "text": [
      "Epoch 65: mean training loss: 356.30342664789276, mean test loss: 361.1105027808349.\n"
     ]
    },
    {
     "data": {
      "application/vnd.jupyter.widget-view+json": {
       "model_id": "",
       "version_major": 2,
       "version_minor": 0
      },
      "text/plain": [
       "HBox(children=(FloatProgress(value=0.0, description='train', max=450336.0, style=ProgressStyle(description_wid…"
      ]
     },
     "metadata": {},
     "output_type": "display_data"
    },
    {
     "data": {
      "application/vnd.jupyter.widget-view+json": {
       "model_id": "",
       "version_major": 2,
       "version_minor": 0
      },
      "text/plain": [
       "HBox(children=(FloatProgress(value=0.0, description='test', max=112584.0, style=ProgressStyle(description_widt…"
      ]
     },
     "metadata": {},
     "output_type": "display_data"
    },
    {
     "name": "stdout",
     "output_type": "stream",
     "text": [
      "Epoch 66: mean training loss: 355.7103000082272, mean test loss: 356.7855037566078.\n"
     ]
    },
    {
     "data": {
      "application/vnd.jupyter.widget-view+json": {
       "model_id": "",
       "version_major": 2,
       "version_minor": 0
      },
      "text/plain": [
       "HBox(children=(FloatProgress(value=0.0, description='train', max=450336.0, style=ProgressStyle(description_wid…"
      ]
     },
     "metadata": {},
     "output_type": "display_data"
    },
    {
     "data": {
      "application/vnd.jupyter.widget-view+json": {
       "model_id": "",
       "version_major": 2,
       "version_minor": 0
      },
      "text/plain": [
       "HBox(children=(FloatProgress(value=0.0, description='test', max=112584.0, style=ProgressStyle(description_widt…"
      ]
     },
     "metadata": {},
     "output_type": "display_data"
    },
    {
     "name": "stdout",
     "output_type": "stream",
     "text": [
      "Epoch 67: mean training loss: 355.23802309085215, mean test loss: 360.8485196348464.\n"
     ]
    },
    {
     "data": {
      "application/vnd.jupyter.widget-view+json": {
       "model_id": "",
       "version_major": 2,
       "version_minor": 0
      },
      "text/plain": [
       "HBox(children=(FloatProgress(value=0.0, description='train', max=450336.0, style=ProgressStyle(description_wid…"
      ]
     },
     "metadata": {},
     "output_type": "display_data"
    },
    {
     "data": {
      "application/vnd.jupyter.widget-view+json": {
       "model_id": "",
       "version_major": 2,
       "version_minor": 0
      },
      "text/plain": [
       "HBox(children=(FloatProgress(value=0.0, description='test', max=112584.0, style=ProgressStyle(description_widt…"
      ]
     },
     "metadata": {},
     "output_type": "display_data"
    },
    {
     "name": "stdout",
     "output_type": "stream",
     "text": [
      "Epoch 68: mean training loss: 354.6533233938818, mean test loss: 357.4173564223061.\n"
     ]
    },
    {
     "data": {
      "application/vnd.jupyter.widget-view+json": {
       "model_id": "",
       "version_major": 2,
       "version_minor": 0
      },
      "text/plain": [
       "HBox(children=(FloatProgress(value=0.0, description='train', max=450336.0, style=ProgressStyle(description_wid…"
      ]
     },
     "metadata": {},
     "output_type": "display_data"
    },
    {
     "data": {
      "application/vnd.jupyter.widget-view+json": {
       "model_id": "",
       "version_major": 2,
       "version_minor": 0
      },
      "text/plain": [
       "HBox(children=(FloatProgress(value=0.0, description='test', max=112584.0, style=ProgressStyle(description_widt…"
      ]
     },
     "metadata": {},
     "output_type": "display_data"
    },
    {
     "name": "stdout",
     "output_type": "stream",
     "text": [
      "Epoch 69: mean training loss: 354.17623383533146, mean test loss: 355.4100178149195.\n"
     ]
    },
    {
     "data": {
      "application/vnd.jupyter.widget-view+json": {
       "model_id": "",
       "version_major": 2,
       "version_minor": 0
      },
      "text/plain": [
       "HBox(children=(FloatProgress(value=0.0, description='train', max=450336.0, style=ProgressStyle(description_wid…"
      ]
     },
     "metadata": {},
     "output_type": "display_data"
    },
    {
     "data": {
      "application/vnd.jupyter.widget-view+json": {
       "model_id": "",
       "version_major": 2,
       "version_minor": 0
      },
      "text/plain": [
       "HBox(children=(FloatProgress(value=0.0, description='test', max=112584.0, style=ProgressStyle(description_widt…"
      ]
     },
     "metadata": {},
     "output_type": "display_data"
    },
    {
     "name": "stdout",
     "output_type": "stream",
     "text": [
      "Epoch 70: mean training loss: 353.72061416003817, mean test loss: 358.03366175306417.\n"
     ]
    },
    {
     "data": {
      "application/vnd.jupyter.widget-view+json": {
       "model_id": "",
       "version_major": 2,
       "version_minor": 0
      },
      "text/plain": [
       "HBox(children=(FloatProgress(value=0.0, description='train', max=450336.0, style=ProgressStyle(description_wid…"
      ]
     },
     "metadata": {},
     "output_type": "display_data"
    },
    {
     "data": {
      "application/vnd.jupyter.widget-view+json": {
       "model_id": "",
       "version_major": 2,
       "version_minor": 0
      },
      "text/plain": [
       "HBox(children=(FloatProgress(value=0.0, description='test', max=112584.0, style=ProgressStyle(description_widt…"
      ]
     },
     "metadata": {},
     "output_type": "display_data"
    },
    {
     "name": "stdout",
     "output_type": "stream",
     "text": [
      "Epoch 71: mean training loss: 353.2244150983765, mean test loss: 360.98176870855673.\n"
     ]
    },
    {
     "data": {
      "application/vnd.jupyter.widget-view+json": {
       "model_id": "",
       "version_major": 2,
       "version_minor": 0
      },
      "text/plain": [
       "HBox(children=(FloatProgress(value=0.0, description='train', max=450336.0, style=ProgressStyle(description_wid…"
      ]
     },
     "metadata": {},
     "output_type": "display_data"
    },
    {
     "data": {
      "application/vnd.jupyter.widget-view+json": {
       "model_id": "",
       "version_major": 2,
       "version_minor": 0
      },
      "text/plain": [
       "HBox(children=(FloatProgress(value=0.0, description='test', max=112584.0, style=ProgressStyle(description_widt…"
      ]
     },
     "metadata": {},
     "output_type": "display_data"
    },
    {
     "name": "stdout",
     "output_type": "stream",
     "text": [
      "Epoch 72: mean training loss: 352.76320864928437, mean test loss: 355.3506708361655.\n"
     ]
    },
    {
     "data": {
      "application/vnd.jupyter.widget-view+json": {
       "model_id": "",
       "version_major": 2,
       "version_minor": 0
      },
      "text/plain": [
       "HBox(children=(FloatProgress(value=0.0, description='train', max=450336.0, style=ProgressStyle(description_wid…"
      ]
     },
     "metadata": {},
     "output_type": "display_data"
    },
    {
     "data": {
      "application/vnd.jupyter.widget-view+json": {
       "model_id": "",
       "version_major": 2,
       "version_minor": 0
      },
      "text/plain": [
       "HBox(children=(FloatProgress(value=0.0, description='test', max=112584.0, style=ProgressStyle(description_widt…"
      ]
     },
     "metadata": {},
     "output_type": "display_data"
    },
    {
     "name": "stdout",
     "output_type": "stream",
     "text": [
      "Epoch 73: mean training loss: 352.2538003054101, mean test loss: 355.0620670637444.\n"
     ]
    },
    {
     "data": {
      "application/vnd.jupyter.widget-view+json": {
       "model_id": "",
       "version_major": 2,
       "version_minor": 0
      },
      "text/plain": [
       "HBox(children=(FloatProgress(value=0.0, description='train', max=450336.0, style=ProgressStyle(description_wid…"
      ]
     },
     "metadata": {},
     "output_type": "display_data"
    },
    {
     "data": {
      "application/vnd.jupyter.widget-view+json": {
       "model_id": "",
       "version_major": 2,
       "version_minor": 0
      },
      "text/plain": [
       "HBox(children=(FloatProgress(value=0.0, description='test', max=112584.0, style=ProgressStyle(description_widt…"
      ]
     },
     "metadata": {},
     "output_type": "display_data"
    },
    {
     "name": "stdout",
     "output_type": "stream",
     "text": [
      "Epoch 74: mean training loss: 351.72007343695464, mean test loss: 359.2027822446867.\n"
     ]
    },
    {
     "data": {
      "application/vnd.jupyter.widget-view+json": {
       "model_id": "",
       "version_major": 2,
       "version_minor": 0
      },
      "text/plain": [
       "HBox(children=(FloatProgress(value=0.0, description='train', max=450336.0, style=ProgressStyle(description_wid…"
      ]
     },
     "metadata": {},
     "output_type": "display_data"
    },
    {
     "data": {
      "application/vnd.jupyter.widget-view+json": {
       "model_id": "",
       "version_major": 2,
       "version_minor": 0
      },
      "text/plain": [
       "HBox(children=(FloatProgress(value=0.0, description='test', max=112584.0, style=ProgressStyle(description_widt…"
      ]
     },
     "metadata": {},
     "output_type": "display_data"
    },
    {
     "name": "stdout",
     "output_type": "stream",
     "text": [
      "Epoch 75: mean training loss: 351.2446717916246, mean test loss: 352.7633837630972.\n"
     ]
    },
    {
     "data": {
      "application/vnd.jupyter.widget-view+json": {
       "model_id": "",
       "version_major": 2,
       "version_minor": 0
      },
      "text/plain": [
       "HBox(children=(FloatProgress(value=0.0, description='train', max=450336.0, style=ProgressStyle(description_wid…"
      ]
     },
     "metadata": {},
     "output_type": "display_data"
    },
    {
     "data": {
      "application/vnd.jupyter.widget-view+json": {
       "model_id": "",
       "version_major": 2,
       "version_minor": 0
      },
      "text/plain": [
       "HBox(children=(FloatProgress(value=0.0, description='test', max=112584.0, style=ProgressStyle(description_widt…"
      ]
     },
     "metadata": {},
     "output_type": "display_data"
    },
    {
     "name": "stdout",
     "output_type": "stream",
     "text": [
      "Epoch 76: mean training loss: 350.8221548599178, mean test loss: 355.8616757612785.\n"
     ]
    },
    {
     "data": {
      "application/vnd.jupyter.widget-view+json": {
       "model_id": "",
       "version_major": 2,
       "version_minor": 0
      },
      "text/plain": [
       "HBox(children=(FloatProgress(value=0.0, description='train', max=450336.0, style=ProgressStyle(description_wid…"
      ]
     },
     "metadata": {},
     "output_type": "display_data"
    },
    {
     "data": {
      "application/vnd.jupyter.widget-view+json": {
       "model_id": "",
       "version_major": 2,
       "version_minor": 0
      },
      "text/plain": [
       "HBox(children=(FloatProgress(value=0.0, description='test', max=112584.0, style=ProgressStyle(description_widt…"
      ]
     },
     "metadata": {},
     "output_type": "display_data"
    },
    {
     "name": "stdout",
     "output_type": "stream",
     "text": [
      "Epoch 77: mean training loss: 350.3637866420396, mean test loss: 350.8342522696917.\n"
     ]
    },
    {
     "data": {
      "application/vnd.jupyter.widget-view+json": {
       "model_id": "",
       "version_major": 2,
       "version_minor": 0
      },
      "text/plain": [
       "HBox(children=(FloatProgress(value=0.0, description='train', max=450336.0, style=ProgressStyle(description_wid…"
      ]
     },
     "metadata": {},
     "output_type": "display_data"
    },
    {
     "data": {
      "application/vnd.jupyter.widget-view+json": {
       "model_id": "",
       "version_major": 2,
       "version_minor": 0
      },
      "text/plain": [
       "HBox(children=(FloatProgress(value=0.0, description='test', max=112584.0, style=ProgressStyle(description_widt…"
      ]
     },
     "metadata": {},
     "output_type": "display_data"
    },
    {
     "name": "stdout",
     "output_type": "stream",
     "text": [
      "Epoch 78: mean training loss: 349.99282295992066, mean test loss: 352.94440420612653.\n"
     ]
    },
    {
     "data": {
      "application/vnd.jupyter.widget-view+json": {
       "model_id": "",
       "version_major": 2,
       "version_minor": 0
      },
      "text/plain": [
       "HBox(children=(FloatProgress(value=0.0, description='train', max=450336.0, style=ProgressStyle(description_wid…"
      ]
     },
     "metadata": {},
     "output_type": "display_data"
    },
    {
     "data": {
      "application/vnd.jupyter.widget-view+json": {
       "model_id": "",
       "version_major": 2,
       "version_minor": 0
      },
      "text/plain": [
       "HBox(children=(FloatProgress(value=0.0, description='test', max=112584.0, style=ProgressStyle(description_widt…"
      ]
     },
     "metadata": {},
     "output_type": "display_data"
    },
    {
     "name": "stdout",
     "output_type": "stream",
     "text": [
      "Epoch 79: mean training loss: 349.48486810832406, mean test loss: 351.79901592070587.\n"
     ]
    },
    {
     "data": {
      "application/vnd.jupyter.widget-view+json": {
       "model_id": "",
       "version_major": 2,
       "version_minor": 0
      },
      "text/plain": [
       "HBox(children=(FloatProgress(value=0.0, description='train', max=450336.0, style=ProgressStyle(description_wid…"
      ]
     },
     "metadata": {},
     "output_type": "display_data"
    },
    {
     "data": {
      "application/vnd.jupyter.widget-view+json": {
       "model_id": "",
       "version_major": 2,
       "version_minor": 0
      },
      "text/plain": [
       "HBox(children=(FloatProgress(value=0.0, description='test', max=112584.0, style=ProgressStyle(description_widt…"
      ]
     },
     "metadata": {},
     "output_type": "display_data"
    },
    {
     "name": "stdout",
     "output_type": "stream",
     "text": [
      "Epoch 80: mean training loss: 349.12988300938633, mean test loss: 358.845003072314.\n"
     ]
    },
    {
     "data": {
      "application/vnd.jupyter.widget-view+json": {
       "model_id": "",
       "version_major": 2,
       "version_minor": 0
      },
      "text/plain": [
       "HBox(children=(FloatProgress(value=0.0, description='train', max=450336.0, style=ProgressStyle(description_wid…"
      ]
     },
     "metadata": {},
     "output_type": "display_data"
    },
    {
     "data": {
      "application/vnd.jupyter.widget-view+json": {
       "model_id": "",
       "version_major": 2,
       "version_minor": 0
      },
      "text/plain": [
       "HBox(children=(FloatProgress(value=0.0, description='test', max=112584.0, style=ProgressStyle(description_widt…"
      ]
     },
     "metadata": {},
     "output_type": "display_data"
    },
    {
     "name": "stdout",
     "output_type": "stream",
     "text": [
      "Epoch 81: mean training loss: 348.7011404922418, mean test loss: 353.3009596482562.\n"
     ]
    },
    {
     "data": {
      "application/vnd.jupyter.widget-view+json": {
       "model_id": "",
       "version_major": 2,
       "version_minor": 0
      },
      "text/plain": [
       "HBox(children=(FloatProgress(value=0.0, description='train', max=450336.0, style=ProgressStyle(description_wid…"
      ]
     },
     "metadata": {},
     "output_type": "display_data"
    },
    {
     "data": {
      "application/vnd.jupyter.widget-view+json": {
       "model_id": "",
       "version_major": 2,
       "version_minor": 0
      },
      "text/plain": [
       "HBox(children=(FloatProgress(value=0.0, description='test', max=112584.0, style=ProgressStyle(description_widt…"
      ]
     },
     "metadata": {},
     "output_type": "display_data"
    },
    {
     "name": "stdout",
     "output_type": "stream",
     "text": [
      "Epoch 82: mean training loss: 348.35516378073635, mean test loss: 354.09866687245676.\n"
     ]
    },
    {
     "data": {
      "application/vnd.jupyter.widget-view+json": {
       "model_id": "",
       "version_major": 2,
       "version_minor": 0
      },
      "text/plain": [
       "HBox(children=(FloatProgress(value=0.0, description='train', max=450336.0, style=ProgressStyle(description_wid…"
      ]
     },
     "metadata": {},
     "output_type": "display_data"
    },
    {
     "data": {
      "application/vnd.jupyter.widget-view+json": {
       "model_id": "",
       "version_major": 2,
       "version_minor": 0
      },
      "text/plain": [
       "HBox(children=(FloatProgress(value=0.0, description='test', max=112584.0, style=ProgressStyle(description_widt…"
      ]
     },
     "metadata": {},
     "output_type": "display_data"
    },
    {
     "name": "stdout",
     "output_type": "stream",
     "text": [
      "Epoch 83: mean training loss: 347.94695204575584, mean test loss: 353.6347113253677.\n"
     ]
    },
    {
     "data": {
      "application/vnd.jupyter.widget-view+json": {
       "model_id": "",
       "version_major": 2,
       "version_minor": 0
      },
      "text/plain": [
       "HBox(children=(FloatProgress(value=0.0, description='train', max=450336.0, style=ProgressStyle(description_wid…"
      ]
     },
     "metadata": {},
     "output_type": "display_data"
    },
    {
     "data": {
      "application/vnd.jupyter.widget-view+json": {
       "model_id": "",
       "version_major": 2,
       "version_minor": 0
      },
      "text/plain": [
       "HBox(children=(FloatProgress(value=0.0, description='test', max=112584.0, style=ProgressStyle(description_widt…"
      ]
     },
     "metadata": {},
     "output_type": "display_data"
    },
    {
     "name": "stdout",
     "output_type": "stream",
     "text": [
      "Epoch 84: mean training loss: 347.551412615298, mean test loss: 349.57914672151674.\n"
     ]
    },
    {
     "data": {
      "application/vnd.jupyter.widget-view+json": {
       "model_id": "",
       "version_major": 2,
       "version_minor": 0
      },
      "text/plain": [
       "HBox(children=(FloatProgress(value=0.0, description='train', max=450336.0, style=ProgressStyle(description_wid…"
      ]
     },
     "metadata": {},
     "output_type": "display_data"
    },
    {
     "data": {
      "application/vnd.jupyter.widget-view+json": {
       "model_id": "",
       "version_major": 2,
       "version_minor": 0
      },
      "text/plain": [
       "HBox(children=(FloatProgress(value=0.0, description='test', max=112584.0, style=ProgressStyle(description_widt…"
      ]
     },
     "metadata": {},
     "output_type": "display_data"
    },
    {
     "name": "stdout",
     "output_type": "stream",
     "text": [
      "Epoch 85: mean training loss: 347.15371126803495, mean test loss: 350.1118971271944.\n"
     ]
    },
    {
     "data": {
      "application/vnd.jupyter.widget-view+json": {
       "model_id": "",
       "version_major": 2,
       "version_minor": 0
      },
      "text/plain": [
       "HBox(children=(FloatProgress(value=0.0, description='train', max=450336.0, style=ProgressStyle(description_wid…"
      ]
     },
     "metadata": {},
     "output_type": "display_data"
    },
    {
     "data": {
      "application/vnd.jupyter.widget-view+json": {
       "model_id": "",
       "version_major": 2,
       "version_minor": 0
      },
      "text/plain": [
       "HBox(children=(FloatProgress(value=0.0, description='test', max=112584.0, style=ProgressStyle(description_widt…"
      ]
     },
     "metadata": {},
     "output_type": "display_data"
    },
    {
     "name": "stdout",
     "output_type": "stream",
     "text": [
      "Epoch 86: mean training loss: 346.7396738655335, mean test loss: 348.71020592405097.\n"
     ]
    },
    {
     "data": {
      "application/vnd.jupyter.widget-view+json": {
       "model_id": "",
       "version_major": 2,
       "version_minor": 0
      },
      "text/plain": [
       "HBox(children=(FloatProgress(value=0.0, description='train', max=450336.0, style=ProgressStyle(description_wid…"
      ]
     },
     "metadata": {},
     "output_type": "display_data"
    },
    {
     "data": {
      "application/vnd.jupyter.widget-view+json": {
       "model_id": "",
       "version_major": 2,
       "version_minor": 0
      },
      "text/plain": [
       "HBox(children=(FloatProgress(value=0.0, description='test', max=112584.0, style=ProgressStyle(description_widt…"
      ]
     },
     "metadata": {},
     "output_type": "display_data"
    },
    {
     "name": "stdout",
     "output_type": "stream",
     "text": [
      "Epoch 87: mean training loss: 346.49630570530275, mean test loss: 348.0738159268258.\n"
     ]
    },
    {
     "data": {
      "application/vnd.jupyter.widget-view+json": {
       "model_id": "",
       "version_major": 2,
       "version_minor": 0
      },
      "text/plain": [
       "HBox(children=(FloatProgress(value=0.0, description='train', max=450336.0, style=ProgressStyle(description_wid…"
      ]
     },
     "metadata": {},
     "output_type": "display_data"
    },
    {
     "data": {
      "application/vnd.jupyter.widget-view+json": {
       "model_id": "",
       "version_major": 2,
       "version_minor": 0
      },
      "text/plain": [
       "HBox(children=(FloatProgress(value=0.0, description='test', max=112584.0, style=ProgressStyle(description_widt…"
      ]
     },
     "metadata": {},
     "output_type": "display_data"
    },
    {
     "name": "stdout",
     "output_type": "stream",
     "text": [
      "Epoch 88: mean training loss: 346.1240008350358, mean test loss: 348.57337771703516.\n"
     ]
    },
    {
     "data": {
      "application/vnd.jupyter.widget-view+json": {
       "model_id": "",
       "version_major": 2,
       "version_minor": 0
      },
      "text/plain": [
       "HBox(children=(FloatProgress(value=0.0, description='train', max=450336.0, style=ProgressStyle(description_wid…"
      ]
     },
     "metadata": {},
     "output_type": "display_data"
    },
    {
     "data": {
      "application/vnd.jupyter.widget-view+json": {
       "model_id": "",
       "version_major": 2,
       "version_minor": 0
      },
      "text/plain": [
       "HBox(children=(FloatProgress(value=0.0, description='test', max=112584.0, style=ProgressStyle(description_widt…"
      ]
     },
     "metadata": {},
     "output_type": "display_data"
    },
    {
     "name": "stdout",
     "output_type": "stream",
     "text": [
      "Epoch 89: mean training loss: 345.82464307929496, mean test loss: 345.10827258305284.\n"
     ]
    },
    {
     "data": {
      "application/vnd.jupyter.widget-view+json": {
       "model_id": "",
       "version_major": 2,
       "version_minor": 0
      },
      "text/plain": [
       "HBox(children=(FloatProgress(value=0.0, description='train', max=450336.0, style=ProgressStyle(description_wid…"
      ]
     },
     "metadata": {},
     "output_type": "display_data"
    },
    {
     "data": {
      "application/vnd.jupyter.widget-view+json": {
       "model_id": "",
       "version_major": 2,
       "version_minor": 0
      },
      "text/plain": [
       "HBox(children=(FloatProgress(value=0.0, description='test', max=112584.0, style=ProgressStyle(description_widt…"
      ]
     },
     "metadata": {},
     "output_type": "display_data"
    },
    {
     "name": "stdout",
     "output_type": "stream",
     "text": [
      "Epoch 90: mean training loss: 345.3653421031, mean test loss: 350.8885994450519.\n"
     ]
    },
    {
     "data": {
      "application/vnd.jupyter.widget-view+json": {
       "model_id": "",
       "version_major": 2,
       "version_minor": 0
      },
      "text/plain": [
       "HBox(children=(FloatProgress(value=0.0, description='train', max=450336.0, style=ProgressStyle(description_wid…"
      ]
     },
     "metadata": {},
     "output_type": "display_data"
    },
    {
     "data": {
      "application/vnd.jupyter.widget-view+json": {
       "model_id": "",
       "version_major": 2,
       "version_minor": 0
      },
      "text/plain": [
       "HBox(children=(FloatProgress(value=0.0, description='test', max=112584.0, style=ProgressStyle(description_widt…"
      ]
     },
     "metadata": {},
     "output_type": "display_data"
    },
    {
     "name": "stdout",
     "output_type": "stream",
     "text": [
      "Epoch 91: mean training loss: 344.9236257436695, mean test loss: 348.47738517780067.\n"
     ]
    },
    {
     "data": {
      "application/vnd.jupyter.widget-view+json": {
       "model_id": "",
       "version_major": 2,
       "version_minor": 0
      },
      "text/plain": [
       "HBox(children=(FloatProgress(value=0.0, description='train', max=450336.0, style=ProgressStyle(description_wid…"
      ]
     },
     "metadata": {},
     "output_type": "display_data"
    },
    {
     "data": {
      "application/vnd.jupyter.widget-view+json": {
       "model_id": "",
       "version_major": 2,
       "version_minor": 0
      },
      "text/plain": [
       "HBox(children=(FloatProgress(value=0.0, description='test', max=112584.0, style=ProgressStyle(description_widt…"
      ]
     },
     "metadata": {},
     "output_type": "display_data"
    },
    {
     "name": "stdout",
     "output_type": "stream",
     "text": [
      "Epoch 92: mean training loss: 344.6785895863906, mean test loss: 349.13051505703106.\n"
     ]
    },
    {
     "data": {
      "application/vnd.jupyter.widget-view+json": {
       "model_id": "",
       "version_major": 2,
       "version_minor": 0
      },
      "text/plain": [
       "HBox(children=(FloatProgress(value=0.0, description='train', max=450336.0, style=ProgressStyle(description_wid…"
      ]
     },
     "metadata": {},
     "output_type": "display_data"
    },
    {
     "data": {
      "application/vnd.jupyter.widget-view+json": {
       "model_id": "",
       "version_major": 2,
       "version_minor": 0
      },
      "text/plain": [
       "HBox(children=(FloatProgress(value=0.0, description='test', max=112584.0, style=ProgressStyle(description_widt…"
      ]
     },
     "metadata": {},
     "output_type": "display_data"
    },
    {
     "name": "stdout",
     "output_type": "stream",
     "text": [
      "Epoch 93: mean training loss: 344.36463769996107, mean test loss: 346.4527169017321.\n"
     ]
    },
    {
     "data": {
      "application/vnd.jupyter.widget-view+json": {
       "model_id": "",
       "version_major": 2,
       "version_minor": 0
      },
      "text/plain": [
       "HBox(children=(FloatProgress(value=0.0, description='train', max=450336.0, style=ProgressStyle(description_wid…"
      ]
     },
     "metadata": {},
     "output_type": "display_data"
    },
    {
     "data": {
      "application/vnd.jupyter.widget-view+json": {
       "model_id": "",
       "version_major": 2,
       "version_minor": 0
      },
      "text/plain": [
       "HBox(children=(FloatProgress(value=0.0, description='test', max=112584.0, style=ProgressStyle(description_widt…"
      ]
     },
     "metadata": {},
     "output_type": "display_data"
    },
    {
     "name": "stdout",
     "output_type": "stream",
     "text": [
      "Epoch 94: mean training loss: 344.00626842116935, mean test loss: 352.8216781743611.\n"
     ]
    },
    {
     "data": {
      "application/vnd.jupyter.widget-view+json": {
       "model_id": "",
       "version_major": 2,
       "version_minor": 0
      },
      "text/plain": [
       "HBox(children=(FloatProgress(value=0.0, description='train', max=450336.0, style=ProgressStyle(description_wid…"
      ]
     },
     "metadata": {},
     "output_type": "display_data"
    },
    {
     "data": {
      "application/vnd.jupyter.widget-view+json": {
       "model_id": "",
       "version_major": 2,
       "version_minor": 0
      },
      "text/plain": [
       "HBox(children=(FloatProgress(value=0.0, description='test', max=112584.0, style=ProgressStyle(description_widt…"
      ]
     },
     "metadata": {},
     "output_type": "display_data"
    },
    {
     "name": "stdout",
     "output_type": "stream",
     "text": [
      "Epoch 95: mean training loss: 343.7162856026125, mean test loss: 346.50027424906443.\n"
     ]
    },
    {
     "data": {
      "application/vnd.jupyter.widget-view+json": {
       "model_id": "",
       "version_major": 2,
       "version_minor": 0
      },
      "text/plain": [
       "HBox(children=(FloatProgress(value=0.0, description='train', max=450336.0, style=ProgressStyle(description_wid…"
      ]
     },
     "metadata": {},
     "output_type": "display_data"
    },
    {
     "data": {
      "application/vnd.jupyter.widget-view+json": {
       "model_id": "",
       "version_major": 2,
       "version_minor": 0
      },
      "text/plain": [
       "HBox(children=(FloatProgress(value=0.0, description='test', max=112584.0, style=ProgressStyle(description_widt…"
      ]
     },
     "metadata": {},
     "output_type": "display_data"
    },
    {
     "name": "stdout",
     "output_type": "stream",
     "text": [
      "Epoch 96: mean training loss: 343.341228596261, mean test loss: 347.6430857663875.\n"
     ]
    },
    {
     "data": {
      "application/vnd.jupyter.widget-view+json": {
       "model_id": "4962068f5dc4499f96ed56bfaf78b72a",
       "version_major": 2,
       "version_minor": 0
      },
      "text/plain": [
       "HBox(children=(FloatProgress(value=0.0, description='train', max=450336.0, style=ProgressStyle(description_wid…"
      ]
     },
     "metadata": {},
     "output_type": "display_data"
    }
   ],
   "source": [
    "from tqdm.auto import tqdm, trange\n",
    "\n",
    "\n",
    "n_epochs = 100\n",
    "batch_size = 32\n",
    "best_loss = np.infty\n",
    "\n",
    "for e in trange(n_epochs, desc=\"epoch\"):\n",
    "    # Train\n",
    "    model.train() # model.training = true\n",
    "    np.random.shuffle(training)\n",
    "    n_batches = len(training) // batch_size\n",
    "    training_loss = 0\n",
    "    for b in trange(n_batches, desc=\"train\", leave=False):\n",
    "        # Select data for that batch\n",
    "        batch_indices = training[b*batch_size:(b+1)*batch_size]\n",
    "        \n",
    "        position_np = buffer[\"/observations/agent/position\"][batch_indices]\n",
    "        velocity_np = buffer[\"/observations/agent/velocity\"][batch_indices]\n",
    "        \n",
    "        timestep_to_reach = buffer[\"/infos/episode/reach_timestep\"][batch_indices] - buffer[\"/infos/episode/timestep\"][batch_indices]\n",
    "        # timestep_to_reach = np.clip(timestep_to_reach, 0, np.infty)\n",
    "        # timestep = buffer[\"/infos/episode/timestep\"][batch_indices]\n",
    "        # actions_np  = buffer[\"/agents/demonstrator/actions\"][batch_indices]\n",
    "        \n",
    "        states  = torch.from_numpy(np.concatenate([position_np,velocity_np], axis=1)).to(device).float()\n",
    "        # states  = torch.from_numpy(np.concatenate([position_np,velocity_np,timestep_to_reach.reshape(-1,1)], axis=1)).to(device).float()\n",
    "        # action_desired = torch.from_numpy(actions_np).to(device).float()\n",
    "        timestep_to_reach_desired = torch.from_numpy(timestep_to_reach.reshape(-1,1)).to(device).float()\n",
    "        \n",
    "        # Forward\n",
    "        # action_model = model(states)\n",
    "        timestep_to_reach_model = model(states)\n",
    "        \n",
    "\n",
    "        # loss = lossfn(action_model, action_desired)\n",
    "        loss = lossfn(timestep_to_reach_model, timestep_to_reach_desired)\n",
    "        \n",
    "        optimizer.zero_grad()\n",
    "        loss.backward()\n",
    "        optimizer.step()\n",
    "        \n",
    "        # Accumulate loss\n",
    "        training_loss += loss.item()\n",
    "        \n",
    "    training_loss = training_loss / n_batches\n",
    "    \n",
    "    \n",
    "    # Test\n",
    "    model.eval() # model.training = true\n",
    "    n_batches = len(test) // batch_size\n",
    "    test_loss = 0\n",
    "    for b in trange(n_batches, desc=\"test\", leave=False):\n",
    "        # Select data for that batch\n",
    "        batch_indices = test[b*batch_size:(b+1)*batch_size]\n",
    "        \n",
    "        position_np = buffer[\"/observations/agent/position\"][batch_indices]\n",
    "        velocity_np = buffer[\"/observations/agent/velocity\"][batch_indices]\n",
    "        \n",
    "        timestep_to_reach = buffer[\"/infos/episode/reach_timestep\"][batch_indices] - buffer[\"/infos/episode/timestep\"][batch_indices]\n",
    "        # timestep_to_reach = np.clip(timestep_to_reach, 0, np.infty)\n",
    "        # timestep = buffer[\"/infos/episode/timestep\"][batch_indices]\n",
    "        # actions_np  = buffer[\"/agents/demonstrator/actions\"][batch_indices]\n",
    "        \n",
    "        states  = torch.from_numpy(np.concatenate([position_np,velocity_np], axis=1)).to(device).float()\n",
    "        # states  = torch.from_numpy(np.concatenate([position_np,velocity_np,timestep_to_reach.reshape(-1,1)], axis=1)).to(device).float()\n",
    "        # action_desired = torch.from_numpy(actions_np).to(device).float()\n",
    "        timestep_to_reach_desired = torch.from_numpy(timestep_to_reach.reshape(-1,1)).to(device).float()\n",
    "        \n",
    "        # Forward\n",
    "        # action_model = model(states)\n",
    "        timestep_to_reach_model = model(states)\n",
    "\n",
    "        # loss = lossfn(action_model, action_desired)\n",
    "        loss = lossfn(timestep_to_reach_model, timestep_to_reach_desired)\n",
    "        \n",
    "        # Accumulate loss\n",
    "        test_loss += loss.item()\n",
    "    \n",
    "    test_loss = test_loss / n_batches\n",
    "    \n",
    "    print(f\"Epoch {e}: mean training loss: {training_loss}, mean test loss: {test_loss}.\")\n",
    "    \n",
    "    if test_loss < best_loss:\n",
    "        torch.save(model.state_dict(), f\"backups/model_epoch_{e}_{test_loss:5.4f}.pt\")\n",
    "        best_loss = test_loss\n",
    "    \n",
    "    \n",
    "    \n",
    "        \n",
    "    # Compute test error\n",
    "    # Report\n",
    "    # Early stopping?\n",
    "    \n",
    "    \n",
    "    \n",
    "        \n",
    "        \n",
    "        \n"
   ]
  },
  {
   "cell_type": "code",
   "execution_count": 22,
   "metadata": {},
   "outputs": [
    {
     "data": {
      "text/plain": [
       "array([-13., -79.,  22.,  76., -11.,  44., 117.,  73., 135.,  92.,  88.,\n",
       "        69., -36., -52., 123., -48.,  -4., 125., -42., -12.,  19.,  37.,\n",
       "       166.,  20., 153.,  85.,  68.,  83.,  60., 115.,  41.,  57.])"
      ]
     },
     "execution_count": 22,
     "metadata": {},
     "output_type": "execute_result"
    }
   ],
   "source": [
    "timestep_to_reach"
   ]
  },
  {
   "cell_type": "code",
   "execution_count": 23,
   "metadata": {},
   "outputs": [
    {
     "data": {
      "text/plain": [
       "array([  0.,   0.,  22.,  76.,   0.,  44., 117.,  73., 135.,  92.,  88.,\n",
       "        69.,   0.,   0., 123.,   0.,   0., 125.,   0.,   0.,  19.,  37.,\n",
       "       166.,  20., 153.,  85.,  68.,  83.,  60., 115.,  41.,  57.])"
      ]
     },
     "execution_count": 23,
     "metadata": {},
     "output_type": "execute_result"
    }
   ],
   "source": [
    "np.clip(timestep_to_reach, 0, np.infty)"
   ]
  },
  {
   "cell_type": "code",
   "execution_count": null,
   "metadata": {},
   "outputs": [],
   "source": []
  },
  {
   "cell_type": "code",
   "execution_count": null,
   "metadata": {},
   "outputs": [],
   "source": []
  },
  {
   "cell_type": "code",
   "execution_count": 28,
   "metadata": {},
   "outputs": [
    {
     "data": {
      "text/plain": [
       "torch.Size([32, 49])"
      ]
     },
     "execution_count": 28,
     "metadata": {},
     "output_type": "execute_result"
    }
   ],
   "source": [
    "states.shape"
   ]
  },
  {
   "cell_type": "code",
   "execution_count": null,
   "metadata": {},
   "outputs": [],
   "source": []
  },
  {
   "cell_type": "code",
   "execution_count": null,
   "metadata": {},
   "outputs": [],
   "source": []
  },
  {
   "cell_type": "code",
   "execution_count": 14,
   "metadata": {},
   "outputs": [
    {
     "name": "stdout",
     "output_type": "stream",
     "text": [
      "inf\n"
     ]
    }
   ],
   "source": [
    "best_loss = np.infty\n",
    "print(best_loss*3)"
   ]
  },
  {
   "cell_type": "code",
   "execution_count": 30,
   "metadata": {},
   "outputs": [],
   "source": [
    "abc = 34341.123445676767887"
   ]
  },
  {
   "cell_type": "code",
   "execution_count": 31,
   "metadata": {},
   "outputs": [
    {
     "data": {
      "text/plain": [
       "'34341.1234'"
      ]
     },
     "execution_count": 31,
     "metadata": {},
     "output_type": "execute_result"
    }
   ],
   "source": []
  },
  {
   "cell_type": "code",
   "execution_count": 84,
   "metadata": {},
   "outputs": [],
   "source": [
    "torch.save(model.state_dict(), \"model_epoch_1.pt\")"
   ]
  },
  {
   "cell_type": "code",
   "execution_count": 59,
   "metadata": {},
   "outputs": [],
   "source": [
    "model = ModelClass(state_size=48, hidden_size=256, action_size=1, action_scale=10)\n",
    "model = model.to(device)\n",
    "\n",
    "# state_dict = torch.load(\"backups/model_epoch_1.pt\")\n"
   ]
  },
  {
   "cell_type": "code",
   "execution_count": 41,
   "metadata": {},
   "outputs": [
    {
     "data": {
      "text/plain": [
       "tensor([[-0.5421],\n",
       "        [-0.1679],\n",
       "        [ 0.8118],\n",
       "        [-0.4336],\n",
       "        [ 2.0686],\n",
       "        [ 1.2972],\n",
       "        [-0.0500],\n",
       "        [ 0.4684],\n",
       "        [-0.0345],\n",
       "        [ 1.2148],\n",
       "        [-0.1655],\n",
       "        [-0.1707],\n",
       "        [ 4.6853],\n",
       "        [-0.2763],\n",
       "        [-0.1873],\n",
       "        [ 2.4805],\n",
       "        [ 0.5893],\n",
       "        [-0.2471],\n",
       "        [ 1.5171],\n",
       "        [ 0.5603],\n",
       "        [ 0.8303],\n",
       "        [ 1.2302],\n",
       "        [ 0.7465],\n",
       "        [ 1.9152],\n",
       "        [-0.1633],\n",
       "        [ 2.0186],\n",
       "        [-0.1678],\n",
       "        [ 1.9252],\n",
       "        [ 1.2885],\n",
       "        [-6.1223],\n",
       "        [ 1.3161],\n",
       "        [-0.0494]], device='cuda:0')"
      ]
     },
     "execution_count": 41,
     "metadata": {},
     "output_type": "execute_result"
    }
   ],
   "source": [
    "action_desired"
   ]
  },
  {
   "cell_type": "code",
   "execution_count": 61,
   "metadata": {},
   "outputs": [
    {
     "data": {
      "text/plain": [
       "tensor(2.9860, device='cuda:0', grad_fn=<MeanBackward0>)"
      ]
     },
     "execution_count": 61,
     "metadata": {},
     "output_type": "execute_result"
    }
   ],
   "source": [
    "torch.mean((model(states) - action_desired)**2)"
   ]
  },
  {
   "cell_type": "code",
   "execution_count": 60,
   "metadata": {},
   "outputs": [
    {
     "data": {
      "text/plain": [
       "[(array([-0.00721777], dtype=float32), array([-0.5421269], dtype=float32)),\n",
       " (array([-0.00765975], dtype=float32), array([-0.16786535], dtype=float32)),\n",
       " (array([-0.00725904], dtype=float32), array([0.81179124], dtype=float32)),\n",
       " (array([-0.00744751], dtype=float32), array([-0.43355983], dtype=float32)),\n",
       " (array([-0.00800348], dtype=float32), array([2.0686255], dtype=float32)),\n",
       " (array([-0.00749895], dtype=float32), array([1.2972153], dtype=float32)),\n",
       " (array([-0.00770784], dtype=float32), array([-0.04997654], dtype=float32)),\n",
       " (array([-0.00846453], dtype=float32), array([0.4683502], dtype=float32)),\n",
       " (array([-0.00737752], dtype=float32), array([-0.03447848], dtype=float32)),\n",
       " (array([-0.00860534], dtype=float32), array([1.2148223], dtype=float32)),\n",
       " (array([-0.00742638], dtype=float32), array([-0.16554818], dtype=float32)),\n",
       " (array([-0.00760948], dtype=float32), array([-0.17073645], dtype=float32)),\n",
       " (array([-0.00906077], dtype=float32), array([4.6852884], dtype=float32)),\n",
       " (array([-0.00718001], dtype=float32), array([-0.276315], dtype=float32)),\n",
       " (array([-0.00740108], dtype=float32), array([-0.18732752], dtype=float32)),\n",
       " (array([-0.01036548], dtype=float32), array([2.4805155], dtype=float32)),\n",
       " (array([-0.00740095], dtype=float32), array([0.58931726], dtype=float32)),\n",
       " (array([-0.00730699], dtype=float32), array([-0.24711452], dtype=float32)),\n",
       " (array([-0.00858798], dtype=float32), array([1.5170671], dtype=float32)),\n",
       " (array([-0.00775316], dtype=float32), array([0.5603404], dtype=float32)),\n",
       " (array([-0.00683773], dtype=float32), array([0.83032], dtype=float32)),\n",
       " (array([-0.00733957], dtype=float32), array([1.2302247], dtype=float32)),\n",
       " (array([-0.00757848], dtype=float32), array([0.7464867], dtype=float32)),\n",
       " (array([-0.00910966], dtype=float32), array([1.9151827], dtype=float32)),\n",
       " (array([-0.00767099], dtype=float32), array([-0.16326883], dtype=float32)),\n",
       " (array([-0.00794005], dtype=float32), array([2.0185962], dtype=float32)),\n",
       " (array([-0.00734659], dtype=float32), array([-0.16779685], dtype=float32)),\n",
       " (array([-0.00733998], dtype=float32), array([1.925207], dtype=float32)),\n",
       " (array([-0.00835656], dtype=float32), array([1.2885302], dtype=float32)),\n",
       " (array([-0.01050762], dtype=float32), array([-6.122292], dtype=float32)),\n",
       " (array([-0.00798116], dtype=float32), array([1.3160862], dtype=float32)),\n",
       " (array([-0.00753584], dtype=float32), array([-0.04944146], dtype=float32))]"
      ]
     },
     "execution_count": 60,
     "metadata": {},
     "output_type": "execute_result"
    }
   ],
   "source": [
    "list(zip(model(states).detach().cpu().numpy(),action_desired.cpu().numpy()))"
   ]
  },
  {
   "cell_type": "code",
   "execution_count": 54,
   "metadata": {},
   "outputs": [
    {
     "data": {
      "text/plain": [
       "array([[-0.5421269 ],\n",
       "       [-0.16786535],\n",
       "       [ 0.81179124],\n",
       "       [-0.43355983],\n",
       "       [ 2.0686255 ],\n",
       "       [ 1.2972153 ],\n",
       "       [-0.04997654],\n",
       "       [ 0.4683502 ],\n",
       "       [-0.03447848],\n",
       "       [ 1.2148223 ],\n",
       "       [-0.16554818],\n",
       "       [-0.17073645],\n",
       "       [ 4.6852884 ],\n",
       "       [-0.276315  ],\n",
       "       [-0.18732752],\n",
       "       [ 2.4805155 ],\n",
       "       [ 0.58931726],\n",
       "       [-0.24711452],\n",
       "       [ 1.5170671 ],\n",
       "       [ 0.5603404 ],\n",
       "       [ 0.83032   ],\n",
       "       [ 1.2302247 ],\n",
       "       [ 0.7464867 ],\n",
       "       [ 1.9151827 ],\n",
       "       [-0.16326883],\n",
       "       [ 2.0185962 ],\n",
       "       [-0.16779685],\n",
       "       [ 1.925207  ],\n",
       "       [ 1.2885302 ],\n",
       "       [-6.122292  ],\n",
       "       [ 1.3160862 ],\n",
       "       [-0.04944146]], dtype=float32)"
      ]
     },
     "execution_count": 54,
     "metadata": {},
     "output_type": "execute_result"
    }
   ],
   "source": [
    "action_desired.cpu().numpy()"
   ]
  },
  {
   "cell_type": "code",
   "execution_count": 35,
   "metadata": {},
   "outputs": [],
   "source": [
    "position = buffer[\"/observations/agent/position\"][batch_indices]\n",
    "velocity = buffer[\"/observations/agent/velocity\"][batch_indices]\n",
    "actions  = buffer[\"/agents/demonstrator/actions\"][batch_indices]\n",
    "\n",
    "masks    = buffer[\"/masks\"][batch_indices]\n",
    "rewards  = buffer[\"/rewards\"][batch_indices]\n",
    "# filename = buffer[\"/infos/rand/filename\"][batch_indices]\n",
    "# timestep = buffer[\"/agents/demonstrator/hidden_state/time_step\"][batch_indices]\n",
    "\n",
    "# initial_closure = buffer[\"/observations/parameters/initial_closure\"][batch_indices]\n",
    "# controller_thre = buffer[\"/observations/parameters/controller_thre\"][batch_indices]\n",
    "# controller_gain = buffer[\"/observations/parameters/controller_gain\"][batch_indices]\n",
    "\n",
    "# hand_closure = buffer[\"/observations/demonstrator/hand_closure\"][batch_indices]\n",
    "# rel_obj_hand = buffer[\"/observations/agent/rel_obj_hand\"][batch_indices]\n",
    "# rel_obj_hand_dist = buffer[\"/observations/agent/rel_obj_hand_dist\"][batch_indices]\n",
    "\n",
    "# distance2 = buffer[\"/observations/agent/distance2\"][batch_indices]\n",
    "# closure = buffer[\"/observations/agent/closure\"][batch_indices]\n",
    "# distance = buffer[\"/observations/demonstrator/distance\"][batch_indices]"
   ]
  },
  {
   "cell_type": "code",
   "execution_count": 36,
   "metadata": {},
   "outputs": [
    {
     "name": "stdout",
     "output_type": "stream",
     "text": [
      "(32, 25)\n",
      "(32, 23)\n",
      "(32, 1)\n",
      "['02_nl_07' '02_nl_02' '08_fr_13' '05_fr_10' '04_nl_06' '02_nl_13'\n",
      " '07_nl_09' '05_nr_13' '01_nr_10' '05_nl_01' '09_fl_02' '09_fl_06'\n",
      " '06_fl_02' '09_fl_06' '08_nr_05' '01_fl_06' '03_nr_15' '09_fr_06'\n",
      " '09_fr_09' '09_fl_10' '08_nr_06' '08_nl_13' '08_fl_10' '08_nr_05'\n",
      " '09_nr_01' '02_fr_10' '04_nl_05' '03_fl_10' '08_nr_02' '02_nr_14'\n",
      " '01_fl_11' '07_nl_02']\n",
      "[131.  36. 178.  38.  71.  42.  69. 149.  53.  41.  72. 106.  31. 181.\n",
      " 178.  76.  99.  79.  23.   0. 111.  96. 112. 116.  63. 163. 140.  74.\n",
      "  99.  66. 134.   1.]\n",
      "[1. 1. 1. 1. 1. 1. 1. 1. 1. 1. 1. 1. 1. 1. 1. 1. 1. 1. 1. 0. 1. 1. 1. 1.\n",
      " 1. 1. 1. 1. 1. 1. 1. 1.]\n",
      "[0. 0. 0. 0. 0. 0. 0. 0. 0. 0. 0. 0. 0. 0. 0. 0. 0. 0. 0. 0. 0. 0. 0. 0.\n",
      " 0. 0. 0. 0. 0. 0. 0. 0.]\n"
     ]
    }
   ],
   "source": [
    "print(position.shape)\n",
    "print(velocity.shape)\n",
    "print(actions.shape)\n",
    "print(filename)\n",
    "print(timestep.reshape(-1))\n",
    "print(masks.reshape(-1))\n",
    "print(rewards.reshape(-1))"
   ]
  },
  {
   "cell_type": "code",
   "execution_count": 39,
   "metadata": {},
   "outputs": [
    {
     "data": {
      "text/plain": [
       "(32, 25)"
      ]
     },
     "execution_count": 39,
     "metadata": {},
     "output_type": "execute_result"
    }
   ],
   "source": [
    "position.shape"
   ]
  },
  {
   "cell_type": "code",
   "execution_count": 41,
   "metadata": {},
   "outputs": [
    {
     "data": {
      "text/plain": [
       "(32, 23)"
      ]
     },
     "execution_count": 41,
     "metadata": {},
     "output_type": "execute_result"
    }
   ],
   "source": [
    "velocity.shape"
   ]
  },
  {
   "cell_type": "code",
   "execution_count": 43,
   "metadata": {},
   "outputs": [
    {
     "data": {
      "text/plain": [
       "(32, 48)"
      ]
     },
     "execution_count": 43,
     "metadata": {},
     "output_type": "execute_result"
    }
   ],
   "source": [
    "np.concatenate([position,velocity], axis=1).shape"
   ]
  },
  {
   "cell_type": "code",
   "execution_count": null,
   "metadata": {},
   "outputs": [],
   "source": []
  },
  {
   "cell_type": "code",
   "execution_count": null,
   "metadata": {},
   "outputs": [],
   "source": []
  },
  {
   "cell_type": "code",
   "execution_count": null,
   "metadata": {},
   "outputs": [],
   "source": [
    "# Load data. Create a dataloader/dataset interface: Not needed! All data is in the memory!\n",
    "\n",
    "# Preprocess, e.g. do data augmentation.\n",
    "#   In early stages that is not usually required. \n",
    "# Visualize the samples you do.\n",
    "# Split data into train/test\n",
    "# Train model. \n",
    "# Once trained, test and try it! Especially on unseen data."
   ]
  },
  {
   "cell_type": "code",
   "execution_count": null,
   "metadata": {},
   "outputs": [],
   "source": []
  },
  {
   "cell_type": "code",
   "execution_count": null,
   "metadata": {},
   "outputs": [],
   "source": [
    "# Load data\n",
    "# Preprocess data\n",
    "# Pre visualizations\n",
    "\n",
    "# Assuming optimizer has two groups.\n",
    "lambda1 = lambda epoch: epoch \\\\ 30\n",
    "lambda2 = lambda epoch: 0.95 ** epoch\n",
    "scheduler = LambdaLR(optimizer, lr_lambda=[lambda1, lambda2])\n",
    "for epoch in range(100):\n",
    "    scheduler.step()\n",
    "    \n",
    "    ### Train\n",
    "    model.train() # model.training = true\n",
    "\n",
    "    # For all data:\n",
    "    #   data, label = ...\n",
    "    #   inputs = inputs.to(device)\n",
    "    #   labels = labels.to(device)\n",
    "    #   TRACKING = ON\n",
    "    #   forward: y = model(x)\n",
    "    #   Compute Loss\n",
    "    #   optimizer.zero_grad()\n",
    "    #   loss.backward()\n",
    "    #   Update with learning_rates: optimizer.step()\n",
    "    #   ---\n",
    "    #   Compute total loss and number of correct guesses\n",
    "    # ------------------------\n",
    "    # Report loss and accuracy\n",
    "    \n",
    "    ### Validate\n",
    "    model.eval() # model.training = false\n",
    "    # For all data:\n",
    "    #   data, label = ...\n",
    "    #   inputs = inputs.to(device)\n",
    "    #   labels = labels.to(device)\n",
    "    #   TRACKING = OFF,\n",
    "    #   forward: y = model(x)\n",
    "    #   Compute Loss\n",
    "    #   ---\n",
    "    #   Compute total loss and number of correct guesses\n",
    "    # ------------------------\n",
    "    # Report loss and accuracy\n",
    "    # Keep track of the best epoch so far\n",
    "    #      best_model_state = copy.deepcopy(model.state_dict())\n",
    "\n",
    "# Post-processing\n",
    "\n"
   ]
  },
  {
   "cell_type": "code",
   "execution_count": null,
   "metadata": {},
   "outputs": [],
   "source": []
  },
  {
   "cell_type": "code",
   "execution_count": null,
   "metadata": {},
   "outputs": [],
   "source": []
  },
  {
   "cell_type": "code",
   "execution_count": null,
   "metadata": {},
   "outputs": [],
   "source": []
  },
  {
   "cell_type": "markdown",
   "metadata": {},
   "source": [
    "## All memory keys\n",
    "\n",
    "* `/observations/agent/position`, `float64`, (19997984, 25)\n",
    "* `/observations/agent/velocity`, `float64`, (19997984, 23)\n",
    "* `/observations/agent/rel_obj_hand`, `float64`, (19997984, 1, 3)\n",
    "* `/observations/agent/rel_obj_hand_dist`, `float64`, (19997984,)\n",
    "* `/observations/agent/distance2`, `float64`, (19997984,)\n",
    "\n",
    "* `/observations/agent/closure`, `float64`, (19997984,)\n",
    "* `/observations/demonstrator/distance`, `float32`, (19997984,)\n",
    "* `/observations/demonstrator/hand_closure`, `float32`, (19997984,)\n",
    "* `/observations/status/is_training`, `uint8, (19997984,)\n",
    "* `/observations/parameters/initial_closure`, `float64`, (19997984,)\n",
    "\n",
    "* `/observations/parameters/controller_gain`, `float64`, (19997984,)\n",
    "* `/observations/parameters/controller_thre`, `float64`, (19997984,)\n",
    "* `/observations/parameters/real_trajectory`, `uint8`, (19997984,)\n",
    "* `/masks`, `float32`, (19997984, 1)\n",
    "* `/agents/demonstrator/actions`, `float32`, (19997984, 1)\n",
    "\n",
    "* `/agents/demonstrator/hidden_state/time_step`, `float32`, (19997984, 1)\n",
    "* `/agents/demonstrator/hidden_state/initial_distance`, `float32`, (19997984, 1)\n",
    "* `/agents/demonstrator/hidden_state/controller_gain`, `float32`, (19997984, 1)\n",
    "* `/agents/demonstrator/hidden_state/controller_thre`, `float32`, (19997984, 1)\n",
    "* `/rewards`, `float64`, (19997984, 1)\n",
    "\n",
    "* `/infos/rand/filename`, `<U8`, (19997984,)\n",
    "* `/infos/rand/time_noise_normal`, `float64`, (19997984,)\n",
    "* `/infos/rand/offset_noise_2d`, `float64`, (19997984, 3)\n",
    "* `/infos/rand/original_time`, `float64`, (19997984,)\n",
    "* `/infos/rand/randomized_time`, `float64`, (19997984,)\n",
    "\n",
    "* `/infos/episode/r`, `float64`, (19997984,)\n",
    "* `/infos/episode/l`, `int64`, (19997984,)\n",
    "* `/infos/episode/t`, `float64`, (19997984,)"
   ]
  },
  {
   "cell_type": "code",
   "execution_count": null,
   "metadata": {},
   "outputs": [],
   "source": []
  },
  {
   "cell_type": "code",
   "execution_count": null,
   "metadata": {},
   "outputs": [],
   "source": []
  }
 ],
 "metadata": {
  "kernelspec": {
   "display_name": "Python 3",
   "language": "python",
   "name": "python3"
  },
  "language_info": {
   "codemirror_mode": {
    "name": "ipython",
    "version": 3
   },
   "file_extension": ".py",
   "mimetype": "text/x-python",
   "name": "python",
   "nbconvert_exporter": "python",
   "pygments_lexer": "ipython3",
   "version": "3.7.7"
  }
 },
 "nbformat": 4,
 "nbformat_minor": 4
}
